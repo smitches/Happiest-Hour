{
 "cells": [
  {
   "cell_type": "markdown",
   "metadata": {},
   "source": [
    "# The Happiest Hour\n",
    "\n",
    "## An innovative solution to promoting and discovering happy hour offerings\n",
    "- Madi Gwynn\n",
    "- Brian Smith-Eitches"
   ]
  },
  {
   "cell_type": "code",
   "execution_count": 2,
   "metadata": {},
   "outputs": [],
   "source": [
    "import sqlite3"
   ]
  },
  {
   "cell_type": "code",
   "execution_count": 3,
   "metadata": {},
   "outputs": [],
   "source": [
    "# Connect/Create(if does not exist) to a database formatted as a sqlite database \n",
    "db=sqlite3.connect(\"./happy_hour.db\")"
   ]
  },
  {
   "cell_type": "code",
   "execution_count": 4,
   "metadata": {},
   "outputs": [],
   "source": [
    "cursor = db.cursor()"
   ]
  },
  {
   "cell_type": "markdown",
   "metadata": {},
   "source": [
    "## Create Database Tables"
   ]
  },
  {
   "cell_type": "code",
   "execution_count": 17,
   "metadata": {},
   "outputs": [],
   "source": [
    "cursor.execute('''\n",
    "    CREATE TABLE regions(\n",
    "        rid INTEGER PRIMARY KEY,\n",
    "        title TEXT)\n",
    "''')\n",
    "db.commit()"
   ]
  },
  {
   "cell_type": "code",
   "execution_count": 18,
   "metadata": {},
   "outputs": [],
   "source": [
    "cursor.execute('''\n",
    "    CREATE TABLE users(\n",
    "        uid INTEGER PRIMARY KEY,\n",
    "        name TEXT,\n",
    "        admin BOOLEAN)\n",
    "''')\n",
    "db.commit()"
   ]
  },
  {
   "cell_type": "code",
   "execution_count": 19,
   "metadata": {},
   "outputs": [],
   "source": [
    "cursor.execute('''\n",
    "    CREATE TABLE bars(\n",
    "        bid INTEGER PRIMARY KEY,\n",
    "        name TEXT,\n",
    "        region_id INTEGER,\n",
    "        manager_id INTERGER,\n",
    "        address TEXT,\n",
    "        phone_number TEXT,\n",
    "        approved BOOLEAN,\n",
    "        FOREIGN KEY(region_id) REFERENCES regions(rid),\n",
    "        FOREIGN KEY(manager_id) REFERENCES users(uid)\n",
    "        )\n",
    "''')\n",
    "db.commit()"
   ]
  },
  {
   "cell_type": "code",
   "execution_count": 20,
   "metadata": {},
   "outputs": [],
   "source": [
    "cursor.execute('''\n",
    "    CREATE TABLE bar_features(\n",
    "        bfid INTEGER PRIMARY KEY,\n",
    "        bar_id INTEGER,\n",
    "        feature_id INTEGER,\n",
    "        FOREIGN KEY(bar_id) REFERENCES bars(bid),\n",
    "        FOREIGN KEY(feature_id) REFERENCES features(fid))\n",
    "''')\n",
    "db.commit()"
   ]
  },
  {
   "cell_type": "code",
   "execution_count": 21,
   "metadata": {},
   "outputs": [],
   "source": [
    "cursor.execute('''\n",
    "    CREATE TABLE features(\n",
    "        fid INTEGER PRIMARY KEY,\n",
    "        feature TEXT,\n",
    "        description TEXT)\n",
    "''')\n",
    "db.commit()"
   ]
  },
  {
   "cell_type": "code",
   "execution_count": 22,
   "metadata": {},
   "outputs": [],
   "source": [
    "cursor.execute('''\n",
    "    CREATE TABLE happy_hours(\n",
    "        hhid INTEGER PRIMARY KEY, \n",
    "        day_of_week VARCHAR(2), \n",
    "        start_time DATETIME, \n",
    "        end_time DATETIME,\n",
    "        bar_id INTEGER,\n",
    "        drinks BOOLEAN,\n",
    "        food BOOLEAN,\n",
    "        menu_pdf TEXT,\n",
    "        FOREIGN KEY(bar_id) REFERENCES bars(bid))\n",
    "''')\n",
    "db.commit()"
   ]
  },
  {
   "cell_type": "code",
   "execution_count": 23,
   "metadata": {},
   "outputs": [],
   "source": [
    "cursor.execute('''\n",
    "    CREATE TABLE reviews(\n",
    "        rid INTEGER PRIMARY KEY, \n",
    "        user_id INTEGER,\n",
    "        bar_id INTEGER,\n",
    "        star_count INTEGER,\n",
    "        FOREIGN KEY(user_id) REFERENCES users(uid), \n",
    "        FOREIGN KEY(bar_id) REFERENCES bars(bid))\n",
    "''')\n",
    "db.commit()"
   ]
  },
  {
   "cell_type": "code",
   "execution_count": 24,
   "metadata": {},
   "outputs": [],
   "source": [
    "db.close()"
   ]
  },
  {
   "cell_type": "markdown",
   "metadata": {},
   "source": [
    "# Functions for implementation"
   ]
  },
  {
   "cell_type": "markdown",
   "metadata": {},
   "source": [
    "# Create \n",
    "- User (self) BRIAN\n",
    "- Regions (admin) BRIAN\n",
    "- Bars (managers, default to *unvetted*) MADI\n",
    "- Happy Hours (managers) MADI\n",
    "- Features (admin) BRIAN\n",
    "- Reviews (users) MADI \n",
    "- BarFeatures (managers) BRIAN"
   ]
  },
  {
   "cell_type": "code",
   "execution_count": 25,
   "metadata": {},
   "outputs": [],
   "source": [
    "def create_user(name, admin=False):\n",
    "    cursor.execute('''INSERT INTO users(name, admin)\n",
    "                  VALUES(?,?)''', (name, admin))\n",
    "    db.commit()"
   ]
  },
  {
   "cell_type": "code",
   "execution_count": 48,
   "metadata": {},
   "outputs": [],
   "source": [
    "create_user(\"Hopdoddy Manager\")"
   ]
  },
  {
   "cell_type": "code",
   "execution_count": 5,
   "metadata": {},
   "outputs": [
    {
     "data": {
      "text/plain": [
       "[(1, 'brian', 0), (2, 'sofi', 0), (3, 'Hopdoddy Manager', 0)]"
      ]
     },
     "execution_count": 5,
     "metadata": {},
     "output_type": "execute_result"
    }
   ],
   "source": [
    "cursor.execute('''SELECT * FROM users''')\n",
    "cursor.fetchall()"
   ]
  },
  {
   "cell_type": "code",
   "execution_count": 45,
   "metadata": {},
   "outputs": [],
   "source": [
    "def create_region(title):\n",
    "    cursor.execute('''INSERT INTO regions(title) VALUES(:title)''',\n",
    "                   {'title':title})\n",
    "    \n",
    "    db.commit()\n",
    "    "
   ]
  },
  {
   "cell_type": "code",
   "execution_count": 46,
   "metadata": {},
   "outputs": [],
   "source": [
    "create_region(\"Domain\")"
   ]
  },
  {
   "cell_type": "code",
   "execution_count": 1,
   "metadata": {},
   "outputs": [
    {
     "ename": "NameError",
     "evalue": "name 'cursor' is not defined",
     "output_type": "error",
     "traceback": [
      "\u001b[1;31m---------------------------------------------------------------------------\u001b[0m",
      "\u001b[1;31mNameError\u001b[0m                                 Traceback (most recent call last)",
      "\u001b[1;32m<ipython-input-1-38d834fe077f>\u001b[0m in \u001b[0;36m<module>\u001b[1;34m\u001b[0m\n\u001b[1;32m----> 1\u001b[1;33m \u001b[0mcursor\u001b[0m\u001b[1;33m.\u001b[0m\u001b[0mexecute\u001b[0m\u001b[1;33m(\u001b[0m\u001b[1;34m'''SELECT * FROM regions'''\u001b[0m\u001b[1;33m)\u001b[0m\u001b[1;33m\u001b[0m\u001b[1;33m\u001b[0m\u001b[0m\n\u001b[0m\u001b[0;32m      2\u001b[0m \u001b[0mcursor\u001b[0m\u001b[1;33m.\u001b[0m\u001b[0mfetchall\u001b[0m\u001b[1;33m(\u001b[0m\u001b[1;33m)\u001b[0m\u001b[1;33m\u001b[0m\u001b[1;33m\u001b[0m\u001b[0m\n",
      "\u001b[1;31mNameError\u001b[0m: name 'cursor' is not defined"
     ]
    }
   ],
   "source": [
    "cursor.execute('''SELECT * FROM regions''')\n",
    "cursor.fetchall()"
   ]
  },
  {
   "cell_type": "code",
   "execution_count": 44,
   "metadata": {},
   "outputs": [],
   "source": [
    "def create_feature(feature, description):\n",
    "    cursor.execute('''INSERT INTO features(feature, description) \n",
    "                    VALUES(?,?)''', (feature, description))\n",
    "    db.commit()\n",
    "    \n",
    "    "
   ]
  },
  {
   "cell_type": "code",
   "execution_count": 45,
   "metadata": {},
   "outputs": [],
   "source": [
    "create_feature(\"Pool\",\"This Bar has a swim up pool\")"
   ]
  },
  {
   "cell_type": "code",
   "execution_count": 46,
   "metadata": {},
   "outputs": [
    {
     "data": {
      "text/plain": [
       "[(1, 'Pool', 'This Bar has a swim up pool')]"
      ]
     },
     "execution_count": 46,
     "metadata": {},
     "output_type": "execute_result"
    }
   ],
   "source": [
    "cursor.execute('''SELECT * FROM features''')\n",
    "cursor.fetchall()"
   ]
  },
  {
   "cell_type": "code",
   "execution_count": 54,
   "metadata": {},
   "outputs": [],
   "source": [
    "def create_bar_feature(bar_id, feature_id):\n",
    "    cursor.execute('''INSERT INTO bar_features(bar_id, feature_id)\n",
    "                    VALUE(?,?)''', (bar_id, feature_id))\n",
    "    db.commit()"
   ]
  },
  {
   "cell_type": "code",
   "execution_count": null,
   "metadata": {},
   "outputs": [],
   "source": [
    "create_bar_feature(#barid, 1)"
   ]
  },
  {
   "cell_type": "code",
   "execution_count": null,
   "metadata": {},
   "outputs": [],
   "source": [
    "#create_bar function \n",
    "def create_bar(name, region_id, manager_id, address, phone_number, approved=FALSE):\n",
    "    cursor.execute('''INSERT INTO bar(name, region_id, manager_id, address, phone_number, approved) \n",
    "                    VALUE(?,?,?,?,?,?)''', name, region_id, manager_id, address, phone_number, approved)\n",
    "    db.commit()\n",
    "    "
   ]
  },
  {
   "cell_type": "code",
   "execution_count": null,
   "metadata": {},
   "outputs": [],
   "source": [
    "create_bar(\"Hopdoddy\", #region_id, #manager_id, \"111 Drink Road\", \"1234567890\")"
   ]
  },
  {
   "cell_type": "code",
   "execution_count": null,
   "metadata": {},
   "outputs": [],
   "source": [
    "cursor.execute('''SELECT * FROM bars''')\n",
    "cursor.fetchall()"
   ]
  },
  {
   "cell_type": "code",
   "execution_count": null,
   "metadata": {},
   "outputs": [],
   "source": [
    "#create_happy_hours function \n",
    "def create_happy_hour(day_of_week, start_time, end_time, bar_id, drinks, food, menu_pdf):\n",
    "    cursor.execute('''INSERT INTO bar(day_of_week, start_time, end_time, bar_id, drinks, food, menu_pdf) \n",
    "                    VALUE(?,?,?,?,?,?,?)''', day_of_week, start_time, end_time, bar_id, drinks, food, menu_pdf)\n",
    "    db.commit()\n",
    "    "
   ]
  },
  {
   "cell_type": "code",
   "execution_count": null,
   "metadata": {},
   "outputs": [],
   "source": [
    "create_happy_hour(\"M\", \"05:00\", \"07:00\", #bar_id, TRUE, FALSE, \"./hopdod_menu_pdf\")"
   ]
  },
  {
   "cell_type": "code",
   "execution_count": null,
   "metadata": {},
   "outputs": [],
   "source": [
    "cursor.execute('''SELECT * FROM happy_hours''')\n",
    "cursor.fetchall()"
   ]
  },
  {
   "cell_type": "code",
   "execution_count": null,
   "metadata": {},
   "outputs": [],
   "source": [
    "def create_review(user_id, bar_id, star_count):\n",
    "    cursor.execute('''INSERT INTO bar(user_id, bar_id, star_count) \n",
    "                    VALUE(?,?,?)''', user_id, bar_id, star_count)\n",
    "    db.commit()    "
   ]
  },
  {
   "cell_type": "code",
   "execution_count": null,
   "metadata": {},
   "outputs": [],
   "source": [
    "create_review(#user_id, #bar_id, 5)"
   ]
  },
  {
   "cell_type": "code",
   "execution_count": null,
   "metadata": {},
   "outputs": [],
   "source": [
    "cursor.execute('''SELECT * FROM reviews''')\n",
    "cursor.fetchall()"
   ]
  },
  {
   "cell_type": "markdown",
   "metadata": {},
   "source": [
    "# Display (READ)\n",
    "- Only show bars & its HH's that have been approved\n",
    "- Only show bars that are in region\n",
    "- Users Filter bar_features\n",
    "- Users Filter by happy hour attributes\n",
    "- Users Filter by bar attributes\n",
    "    - Including review ratings\n",
    "- For **High Level = BAR** : Link up (JSON) bar name, happy hour days, drinks/food disc?, region, reviews MADI\n",
    "- For **LOW LEVEL = HH**: include each happy hour separated by happy hour entry, pdf, bar info from above, phone, address BRIAN"
   ]
  },
  {
   "cell_type": "code",
   "execution_count": null,
   "metadata": {},
   "outputs": [],
   "source": [
    "#output of this function is a dictionary - can later be converted to a json object \n",
    "def display_high(bar_id):\n",
    "    #create empty dictionary\n",
    "    bar = {}\n",
    "    \n",
    "    #add bar name and region to dictionary\n",
    "    cursor.execute('''SELECT name, region FROM bars \n",
    "                        WHERE bid=(:bid) ''', {'bid':bar_id})\n",
    "    bar_info = cursor.fetchone()\n",
    "    bar[name] = bar_info[0]\n",
    "    bar[region] = bar_info[1]\n",
    "    \n",
    "    #add happy hour days to dictionary \n",
    "    cursor.execute('''SELECT day_of_week FROM happy_hours\n",
    "                        WHERE bar_id=(:bar_id)''', {'bar_id':bar_id})\n",
    "    day_of_weeks = cursor.fetchall()\n",
    "    hh_days = []\n",
    "    for day in day_of_weeks\n",
    "        hh_days.append(day)\n",
    "    bar[days] = hh_days\n",
    "    \n",
    "    #add if drinks and food are discounted \n",
    "    cursor.execute('''SELECT drinks FROM happy_hours \n",
    "                        WHERE bar_id=(:bar_id)''', {'bar_id':bar_id})\n",
    "    drinks = cursor.fetchall()\n",
    "    drinks_check = FALSE\n",
    "    for disc in drinks\n",
    "        if disc[0] == 'TRUE' #is this a boolean or a string?\n",
    "            drinks_check = TRUE\n",
    "            break\n",
    "    bar[drinks] = drinks_check\n",
    "    \n",
    "    cursor.execute('''SELECT food FROM happy_hours \n",
    "                        WHERE bar_id=(:bar_id)''', {'bar_id':bar_id})\n",
    "    food = cursor.fetchall()\n",
    "    food_check = FALSE\n",
    "    for disc in food\n",
    "        if disc[0] == 'TRUE' #is this a boolean or a string?\n",
    "            food_check = TRUE\n",
    "            break\n",
    "    \n",
    "    bar[food] = food_check\n",
    "    \n",
    "    #add reviews score to dictionary \n",
    "    cursor.execute('''SELECT star_count FROM reviews \n",
    "                        WHERE bar_id=(:bar_id)''', {'bar_id':bar_id})\n",
    "    star_counts = cursor.fetchall()\n",
    "    star_sum = 0\n",
    "    for review in star_counts\n",
    "        star_sum += review[0]\n",
    "    total_reviews = cursor.getCount()\n",
    "    \n",
    "    bar[reviews] = star_sum / total_reviews\n",
    "    \n",
    "    \n",
    "    #print and return dictionary \n",
    "    print (bar)\n",
    "    #return bar\n",
    "        "
   ]
  },
  {
   "cell_type": "code",
   "execution_count": null,
   "metadata": {},
   "outputs": [],
   "source": [
    "def display_all_bars:\n",
    "    cursor.execute('''SELECT bid FROM bars \n",
    "                        WHERE approved = 'TRUE' AND bid=(:bid) ''', {'bid':bar_id})\n",
    "    all_bars = cursor.fetchall()\n",
    "    for bar in all_bars\n",
    "        display_high(bar[0])"
   ]
  },
  {
   "cell_type": "code",
   "execution_count": null,
   "metadata": {},
   "outputs": [],
   "source": [
    "def display_region_bars(region_id):\n",
    "    cursor.execute('''SELECT bid FROM bars \n",
    "                        WHERE approved = 'TRUE' AND region_id=(:region_id) ''', {'region_id':region_id})\n",
    "    all_bars = cursor.fetchall()\n",
    "    for bar in all_bars\n",
    "        display_high(bar[0])"
   ]
  },
  {
   "cell_type": "code",
   "execution_count": null,
   "metadata": {},
   "outputs": [],
   "source": [
    "def display_features_bars()"
   ]
  },
  {
   "cell_type": "markdown",
   "metadata": {},
   "source": [
    "# Edit (UPDATE) *Identical to Create*\n",
    "- User (self) BRIAN\n",
    "- Regions (admin) BRIAN\n",
    "- Bars (managers, admin) MADI\n",
    "    - Also admin approval\n",
    "- Happy Hours (managers) MADI\n",
    "- Features (admin) BRIAN\n",
    "- Reviews (users) MADI\n",
    "- BarFeatures (managers) BRIAN **Achieved via add feature and delete feature**"
   ]
  },
  {
   "cell_type": "code",
   "execution_count": 34,
   "metadata": {},
   "outputs": [],
   "source": [
    "def edit_user(uid, name, admin=False):\n",
    "    cursor.execute('''UPDATE users SET name=(:name), admin=(:admin)\n",
    "                  WHERE uid=(:uid)''', {'uid':uid,'name':name,'admin':admin})\n",
    "    db.commit()"
   ]
  },
  {
   "cell_type": "code",
   "execution_count": 35,
   "metadata": {},
   "outputs": [],
   "source": [
    "edit_user(3, \"Hopdoddy Manager 1\")"
   ]
  },
  {
   "cell_type": "code",
   "execution_count": 36,
   "metadata": {},
   "outputs": [
    {
     "data": {
      "text/plain": [
       "[(2, 'sofi', 0), (3, 'Hopdoddy Manager 1', 0)]"
      ]
     },
     "execution_count": 36,
     "metadata": {},
     "output_type": "execute_result"
    }
   ],
   "source": [
    "cursor.execute('''SELECT * FROM users''')\n",
    "cursor.fetchall()"
   ]
  },
  {
   "cell_type": "code",
   "execution_count": 37,
   "metadata": {},
   "outputs": [],
   "source": [
    "def edit_region(rid, title):\n",
    "    cursor.execute('''UPDATE regions SET title=(:title)\n",
    "                  WHERE rid=(:rid)''', {'rid':rid,'title':title})\n",
    "    db.commit()"
   ]
  },
  {
   "cell_type": "code",
   "execution_count": 39,
   "metadata": {},
   "outputs": [],
   "source": [
    "edit_region(1,'Domain (ATX)')"
   ]
  },
  {
   "cell_type": "code",
   "execution_count": 40,
   "metadata": {},
   "outputs": [
    {
     "data": {
      "text/plain": [
       "[(1, 'Domain (ATX)')]"
      ]
     },
     "execution_count": 40,
     "metadata": {},
     "output_type": "execute_result"
    }
   ],
   "source": [
    "cursor.execute('''SELECT * FROM regions''')\n",
    "cursor.fetchall()"
   ]
  },
  {
   "cell_type": "code",
   "execution_count": 41,
   "metadata": {},
   "outputs": [],
   "source": [
    "def edit_feature(fid, feature, description):\n",
    "    cursor.execute('''UPDATE features SET feature=(:feature), description=(:description)\n",
    "                  WHERE fid=(:fid)''', {'fid':fid,'feature':feature,'description':description})\n",
    "    db.commit()"
   ]
  },
  {
   "cell_type": "code",
   "execution_count": 48,
   "metadata": {},
   "outputs": [],
   "source": [
    "edit_feature(1,'Pool Table',\"Play pool/billiards\")"
   ]
  },
  {
   "cell_type": "code",
   "execution_count": 49,
   "metadata": {},
   "outputs": [
    {
     "data": {
      "text/plain": [
       "[(1, 'Pool Table', 'Play pool/billiards')]"
      ]
     },
     "execution_count": 49,
     "metadata": {},
     "output_type": "execute_result"
    }
   ],
   "source": [
    "cursor.execute('''SELECT * FROM features''')\n",
    "cursor.fetchall()"
   ]
  },
  {
   "cell_type": "code",
   "execution_count": null,
   "metadata": {},
   "outputs": [],
   "source": [
    "def edit_bar(bid, name, region_id, manager_id, address, phone_number):\n",
    "    cursor.execute('''UPDATE bars SET name=(:name), region_id=(:region_id), manager_id=(:manager_id), address=(:address), phone_number=(:phone_number)\n",
    "                  WHERE bid=(:bid)''', {'bid':bid,'name':name,'region_id':region_id, 'manager_id':manager_id, 'address':address, 'phone_number':phone_number})\n",
    "    db.commit()"
   ]
  },
  {
   "cell_type": "code",
   "execution_count": null,
   "metadata": {},
   "outputs": [],
   "source": [
    "def approve_bar(bid, approved=TRUE):\n",
    "    cursor.execute('''UPDATE bars SET approved=(:approved)\n",
    "                        WHERE bid=(:bid)''', {'bid':bid,'approved':approved})\n",
    "    db.commit() "
   ]
  },
  {
   "cell_type": "code",
   "execution_count": null,
   "metadata": {},
   "outputs": [],
   "source": [
    "def edit_happy_hour(hhid, day_of_week, start_time, end_time, bar_id, drinks, food, menu_pdf):\n",
    "    cursor.execute('''UPDATE bars SET day_of_week=(:day_of_week), start_time=(:start_time), end_time=(:end_time), bar_id=(:bar_id), drinks=(:drinks), food=(:food), menu_pdf=(:menu_pdf)\n",
    "                  WHERE hhid=(:hhid)''', {'hhid':hhid,'name':name,'region_id':region_id, 'manager_id':manager_id, 'address':address, 'phone_number':phone_number})\n",
    "    db.commit()"
   ]
  },
  {
   "cell_type": "code",
   "execution_count": null,
   "metadata": {},
   "outputs": [],
   "source": [
    "def edit_review(rid, bar_id, star_count):\n",
    "    cursor.execute('''UPDATE bars SET bar_id=(:bar_id), star_count=(:star_count)\n",
    "                        WHERE rid=(:rid)''', {'rid':rid,'bar_id':bar_id, 'star_count':star_count})\n",
    "    db.commit() "
   ]
  },
  {
   "cell_type": "markdown",
   "metadata": {},
   "source": [
    "# Delete\n",
    "- User (admin) BRIAN\n",
    "- Regions (admin) BRIAN\n",
    "- Bars (managers) MADI\n",
    "    - Call delete all happy hours\n",
    "    - Call delete on all bar features\n",
    "- Happy Hours (managers) MADI\n",
    "- Features (admin) BRIAN\n",
    "    - Remove all barfeatures with that feature\n",
    "- Reviews (users) MADI\n",
    "- BarFeatures (managers) BRIAN"
   ]
  },
  {
   "cell_type": "code",
   "execution_count": 6,
   "metadata": {},
   "outputs": [],
   "source": [
    "#only admins can call this in the interface\n",
    "def delete_user(user_id):\n",
    "    cursor.execute('''DELETE FROM users WHERE\n",
    "                  uid=(:user_id)''', {'user_id':user_id})\n",
    "    db.commit()"
   ]
  },
  {
   "cell_type": "code",
   "execution_count": 7,
   "metadata": {},
   "outputs": [],
   "source": [
    "delete_user(1)"
   ]
  },
  {
   "cell_type": "code",
   "execution_count": 8,
   "metadata": {},
   "outputs": [
    {
     "data": {
      "text/plain": [
       "[(2, 'sofi', 0), (3, 'Hopdoddy Manager', 0)]"
      ]
     },
     "execution_count": 8,
     "metadata": {},
     "output_type": "execute_result"
    }
   ],
   "source": [
    "cursor.execute('''SELECT * FROM users''')\n",
    "cursor.fetchall()"
   ]
  },
  {
   "cell_type": "code",
   "execution_count": 20,
   "metadata": {},
   "outputs": [],
   "source": [
    "def delete_region(region_id):\n",
    "    cursor.execute('''DELETE FROM regions\n",
    "                    WHERE rid=(:rid)''', {'rid':region_id})\n",
    "    \n",
    "    db.commit()\n",
    "    "
   ]
  },
  {
   "cell_type": "code",
   "execution_count": 21,
   "metadata": {},
   "outputs": [],
   "source": [
    "delete_region(2)"
   ]
  },
  {
   "cell_type": "code",
   "execution_count": 22,
   "metadata": {},
   "outputs": [
    {
     "data": {
      "text/plain": [
       "[(1, 'Domain')]"
      ]
     },
     "execution_count": 22,
     "metadata": {},
     "output_type": "execute_result"
    }
   ],
   "source": [
    "cursor.execute('''SELECT * FROM regions''')\n",
    "cursor.fetchall()"
   ]
  },
  {
   "cell_type": "code",
   "execution_count": 25,
   "metadata": {},
   "outputs": [],
   "source": [
    "def delete_feature(feature_id):\n",
    "    cursor.execute('''DELETE FROM bar_features WHERE feature_id=(:feature_id)''', {'feature_id':feature_id})\n",
    "    cursor.execute('''DELETE FROM features WHERE fid=(:feature_id)''',{'feature_id':feature_id})\n",
    "    db.commit()\n",
    "    \n",
    "    "
   ]
  },
  {
   "cell_type": "code",
   "execution_count": 26,
   "metadata": {},
   "outputs": [],
   "source": [
    "delete_feature(1)"
   ]
  },
  {
   "cell_type": "code",
   "execution_count": 27,
   "metadata": {},
   "outputs": [
    {
     "data": {
      "text/plain": [
       "[]"
      ]
     },
     "execution_count": 27,
     "metadata": {},
     "output_type": "execute_result"
    }
   ],
   "source": [
    "cursor.execute('''SELECT * FROM features''')\n",
    "cursor.fetchall()"
   ]
  },
  {
   "cell_type": "code",
   "execution_count": 54,
   "metadata": {},
   "outputs": [],
   "source": [
    "def delete_bar_feature(bar_id, feature_id):\n",
    "    cursor.execute('''DELETE FROM bar_features WHERE bar_id=(:bar_id) AND feaure_id=(:feature_id)\n",
    "                    ''', {'bar_id':bar_id, 'feature_id':feature_id})\n",
    "    db.commit()"
   ]
  },
  {
   "cell_type": "code",
   "execution_count": null,
   "metadata": {},
   "outputs": [],
   "source": [
    "create_bar_feature(#barid, 1)"
   ]
  },
  {
   "cell_type": "code",
   "execution_count": null,
   "metadata": {},
   "outputs": [],
   "source": [
    "def delete_bar(bar_id):\n",
    "    cursor.execute('''DELETE FROM bar_features WHERE bar_id=(:bar_id)''', {'bar_id':bar_id})\n",
    "    cursor.execute('''DELETE FROM happy_hours WHERE bar_id=(:bar_id)''', {'bar_id':bar_id})\n",
    "    cursor.execute('''DELETE FROM bars WHERE bid=(:bar_id)''', {'bar_id':bar_id})\n",
    "    db.commit()"
   ]
  },
  {
   "cell_type": "code",
   "execution_count": null,
   "metadata": {},
   "outputs": [],
   "source": [
    "def delete_happy_hour(hhid):\n",
    "    cursor.execute('''DELETE FROM happy_hours WHERE hhid=(:hhid)''', {'hhid':hhid})\n",
    "    db.commit()"
   ]
  },
  {
   "cell_type": "code",
   "execution_count": null,
   "metadata": {},
   "outputs": [],
   "source": [
    "def delete_review(rid):\n",
    "    cursor.execute('''DELETE FROM reviews WHERE rid=(:rid)''', {'rid':rid})\n",
    "    db.commit()"
   ]
  }
 ],
 "metadata": {
  "kernelspec": {
   "display_name": "Python 3",
   "language": "python",
   "name": "python3"
  },
  "language_info": {
   "codemirror_mode": {
    "name": "ipython",
    "version": 3
   },
   "file_extension": ".py",
   "mimetype": "text/x-python",
   "name": "python",
   "nbconvert_exporter": "python",
   "pygments_lexer": "ipython3",
   "version": "3.7.3"
  }
 },
 "nbformat": 4,
 "nbformat_minor": 2
}
