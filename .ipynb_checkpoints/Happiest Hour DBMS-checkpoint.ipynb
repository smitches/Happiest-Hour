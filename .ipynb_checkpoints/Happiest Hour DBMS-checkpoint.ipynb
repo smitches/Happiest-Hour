{
 "cells": [
  {
   "cell_type": "markdown",
   "metadata": {},
   "source": [
    "# The Happiest Hour\n",
    "\n",
    "## An innovative solution to promoting and discovering happy hour offerings\n",
    "- Madi Gwynn\n",
    "- Brian Smith-Eitches"
   ]
  },
  {
   "cell_type": "code",
   "execution_count": 2,
   "metadata": {},
   "outputs": [],
   "source": [
    "import sqlite3"
   ]
  },
  {
   "cell_type": "code",
   "execution_count": 3,
   "metadata": {},
   "outputs": [],
   "source": [
    "# Connect/Create(if does not exist) to a database formatted as a sqlite database \n",
    "db=sqlite3.connect(\"./happy_hour.db\")"
   ]
  },
  {
   "cell_type": "code",
   "execution_count": 4,
   "metadata": {},
   "outputs": [],
   "source": [
    "cursor = db.cursor()"
   ]
  },
  {
   "cell_type": "markdown",
   "metadata": {},
   "source": [
    "## Create Tables\n",
    "\n",
    "Database Tables\n",
    "- regions\n",
    "- users\n",
    "- hosts\n",
    "- bar_features\n",
    "- happy_hours\n",
    "- reviews\n",
    "- favorites \n"
   ]
  },
  {
   "cell_type": "code",
   "execution_count": 5,
   "metadata": {},
   "outputs": [],
   "source": [
    "cursor.execute('''\n",
    "    CREATE TABLE regions(\n",
    "        pid INTEGER PRIMARY KEY,\n",
    "        title TEXT)\n",
    "''')\n",
    "db.commit()"
   ]
  },
  {
   "cell_type": "code",
   "execution_count": 6,
   "metadata": {},
   "outputs": [],
   "source": [
    "cursor.execute('''\n",
    "    CREATE TABLE users(\n",
    "        pid INTEGER PRIMARY KEY,\n",
    "        name TEXT,\n",
    "        type BOOLEAN)\n",
    "''')\n",
    "db.commit()"
   ]
  },
  {
   "cell_type": "code",
   "execution_count": 8,
   "metadata": {},
   "outputs": [],
   "source": [
    "cursor.execute('''\n",
    "    CREATE TABLE hosts(\n",
    "        pid INTEGER PRIMARY KEY,\n",
    "        name TEXT,\n",
    "        region_id INTEGER,\n",
    "        address TEXT,\n",
    "        phone_number TEXT,\n",
    "        approved BOOLEAN,\n",
    "        FOREIGN KEY(region_id) REFERENCES regions(pid))\n",
    "''')\n",
    "db.commit()"
   ]
  },
  {
   "cell_type": "code",
   "execution_count": null,
   "metadata": {},
   "outputs": [],
   "source": [
    "cursor.execute('''\n",
    "    CREATE TABLE bar_features(\n",
    "        pid INTEGER PRIMARY KEY,\n",
    "        host_id INTEGER,\n",
    "        feature TEXT,\n",
    "        description TEXT,\n",
    "        FOREIGN KEY(host_id) REFERENCES hosts(pid))\n",
    "''')\n",
    "db.commit()"
   ]
  },
  {
   "cell_type": "code",
   "execution_count": null,
   "metadata": {},
   "outputs": [],
   "source": [
    "cursor.execute('''\n",
    "    CREATE TABLE happy_hours(\n",
    "        pid INTEGER PRIMARY KEY, \n",
    "        title TEXT,\n",
    "        day_of_week TEXT, \n",
    "        start_time DATETIME, \n",
    "        end_time DATETIME,\n",
    "        host_id INTEGER,\n",
    "        region_id INTEGER,\n",
    "        price_range \n",
    "        drinks BOOLEAN,\n",
    "        food BOOLEAN,\n",
    "        menu_pdf TEXT,\n",
    "        FOREIGN KEY(host_id) REFERENCES hosts(pid),\n",
    "        FOREIGN KEY(region_id) REFERENCES regions(pid))\n",
    "''')\n",
    "db.commit()"
   ]
  },
  {
   "cell_type": "code",
   "execution_count": null,
   "metadata": {},
   "outputs": [],
   "source": [
    "cursor.execute('''\n",
    "    CREATE TABLE reviews(\n",
    "        pid INTEGER PRIMARY KEY, \n",
    "        user_id INTEGER,\n",
    "        happy_hour_id INTEGER,\n",
    "        star_count INTEGER,\n",
    "        FOREIGN KEY(user_id) REFERENCES users(pid), \n",
    "        FOREIGN KEY(happy_hour_id) REFERENCES happy_hours(pid))\n",
    "''')\n",
    "db.commit()"
   ]
  },
  {
   "cell_type": "code",
   "execution_count": null,
   "metadata": {},
   "outputs": [],
   "source": [
    "cursor.execute('''\n",
    "    CREATE TABLE favorites(\n",
    "        pid INTEGER PRIMARY KEY, \n",
    "        user_id INTEGER,\n",
    "        happy_hour_id INTEGER,\n",
    "        FOREIGN KEY(user_id) REFERENCES users(pid),\n",
    "        FOREIGN KEY(happy_hour_id) REFERENCES happy_hours(pid))\n",
    "''')\n",
    "db.commit()"
   ]
  },
  {
   "cell_type": "code",
   "execution_count": 1,
   "metadata": {},
   "outputs": [],
   "source": [
    "def register_new_user(input):\n",
    "    pass"
   ]
  },
  {
   "cell_type": "code",
   "execution_count": null,
   "metadata": {},
   "outputs": [],
   "source": []
  }
 ],
 "metadata": {
  "kernelspec": {
   "display_name": "Python 3",
   "language": "python",
   "name": "python3"
  },
  "language_info": {
   "codemirror_mode": {
    "name": "ipython",
    "version": 3
   },
   "file_extension": ".py",
   "mimetype": "text/x-python",
   "name": "python",
   "nbconvert_exporter": "python",
   "pygments_lexer": "ipython3",
   "version": "3.7.3"
  }
 },
 "nbformat": 4,
 "nbformat_minor": 2
}
