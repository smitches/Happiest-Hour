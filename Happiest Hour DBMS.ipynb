{
 "cells": [
  {
   "cell_type": "markdown",
   "metadata": {},
   "source": [
    "# The Happiest Hour\n",
    "\n",
    "## An innovative solution to promoting and discovering happy hour offerings\n",
    "- Madi Gwynn\n",
    "- Brian Smith-Eitches"
   ]
  },
  {
   "cell_type": "code",
   "execution_count": 14,
   "metadata": {},
   "outputs": [],
   "source": [
    "import sqlite3"
   ]
  },
  {
   "cell_type": "code",
   "execution_count": 15,
   "metadata": {},
   "outputs": [],
   "source": [
    "# Connect/Create(if does not exist) to a database formatted as a sqlite database \n",
    "db=sqlite3.connect(\"./happy_hour.db\")"
   ]
  },
  {
   "cell_type": "code",
   "execution_count": 16,
   "metadata": {},
   "outputs": [],
   "source": [
    "cursor = db.cursor()"
   ]
  },
  {
   "cell_type": "markdown",
   "metadata": {},
   "source": [
    "## Create Database Tables"
   ]
  },
  {
   "cell_type": "code",
   "execution_count": 17,
   "metadata": {},
   "outputs": [],
   "source": [
    "cursor.execute('''\n",
    "    CREATE TABLE regions(\n",
    "        rid INTEGER PRIMARY KEY,\n",
    "        title TEXT)\n",
    "''')\n",
    "db.commit()"
   ]
  },
  {
   "cell_type": "code",
   "execution_count": 18,
   "metadata": {},
   "outputs": [],
   "source": [
    "cursor.execute('''\n",
    "    CREATE TABLE users(\n",
    "        uid INTEGER PRIMARY KEY,\n",
    "        name TEXT,\n",
    "        admin BOOLEAN)\n",
    "''')\n",
    "db.commit()"
   ]
  },
  {
   "cell_type": "code",
   "execution_count": 19,
   "metadata": {},
   "outputs": [],
   "source": [
    "cursor.execute('''\n",
    "    CREATE TABLE bars(\n",
    "        bid INTEGER PRIMARY KEY,\n",
    "        name TEXT,\n",
    "        region_id INTEGER,\n",
    "        manager_id INTERGER,\n",
    "        address TEXT,\n",
    "        phone_number TEXT,\n",
    "        approved BOOLEAN,\n",
    "        FOREIGN KEY(region_id) REFERENCES regions(rid),\n",
    "        FOREIGN KEY(manager_id) REFERENCES users(uid)\n",
    "        )\n",
    "''')\n",
    "db.commit()"
   ]
  },
  {
   "cell_type": "code",
   "execution_count": 20,
   "metadata": {},
   "outputs": [],
   "source": [
    "cursor.execute('''\n",
    "    CREATE TABLE bar_features(\n",
    "        bfid INTEGER PRIMARY KEY,\n",
    "        bar_id INTEGER,\n",
    "        feature_id INTEGER,\n",
    "        FOREIGN KEY(bar_id) REFERENCES bars(bid),\n",
    "        FOREIGN KEY(feature_id) REFERENCES features(fid))\n",
    "''')\n",
    "db.commit()"
   ]
  },
  {
   "cell_type": "code",
   "execution_count": 21,
   "metadata": {},
   "outputs": [],
   "source": [
    "cursor.execute('''\n",
    "    CREATE TABLE features(\n",
    "        fid INTEGER PRIMARY KEY,\n",
    "        feature TEXT,\n",
    "        description TEXT)\n",
    "''')\n",
    "db.commit()"
   ]
  },
  {
   "cell_type": "markdown",
   "metadata": {},
   "source": [
    "*What is price range?*"
   ]
  },
  {
   "cell_type": "code",
   "execution_count": 22,
   "metadata": {},
   "outputs": [],
   "source": [
    "cursor.execute('''\n",
    "    CREATE TABLE happy_hours(\n",
    "        hhid INTEGER PRIMARY KEY, \n",
    "        day_of_week VARCHAR(2), \n",
    "        start_time DATETIME, \n",
    "        end_time DATETIME,\n",
    "        bar_id INTEGER,\n",
    "        drinks BOOLEAN,\n",
    "        food BOOLEAN,\n",
    "        menu_pdf TEXT,\n",
    "        FOREIGN KEY(bar_id) REFERENCES bars(bid))\n",
    "''')\n",
    "db.commit()"
   ]
  },
  {
   "cell_type": "code",
   "execution_count": 23,
   "metadata": {},
   "outputs": [],
   "source": [
    "cursor.execute('''\n",
    "    CREATE TABLE reviews(\n",
    "        rid INTEGER PRIMARY KEY, \n",
    "        user_id INTEGER,\n",
    "        bar_id INTEGER,\n",
    "        star_count INTEGER,\n",
    "        FOREIGN KEY(user_id) REFERENCES users(uid), \n",
    "        FOREIGN KEY(bar_id) REFERENCES bars(bid))\n",
    "''')\n",
    "db.commit()"
   ]
  },
  {
   "cell_type": "code",
   "execution_count": 24,
   "metadata": {},
   "outputs": [],
   "source": [
    "db.close()"
   ]
  },
  {
   "cell_type": "markdown",
   "metadata": {},
   "source": [
    "# Functions for implementation"
   ]
  },
  {
   "cell_type": "markdown",
   "metadata": {},
   "source": [
    "# Create \n",
    "- User (self) BRIAN\n",
    "- Regions (admin) BRIAN\n",
    "- Bars (managers, default to *unvetted*) MADI\n",
    "- Happy Hours (managers) MADI\n",
    "- Features (admin) BRIAN\n",
    "- Reviews (users) MADI \n",
    "- BarFeatures (managers) BRIAN"
   ]
  },
  {
   "cell_type": "markdown",
   "metadata": {},
   "source": [
    "# Display (READ)\n",
    "- Only show bars & its HH's that have been approved\n",
    "- Only show bars that are in region\n",
    "- Users Filter bar_features\n",
    "- Users Filter by happy hour attributes\n",
    "- Users Filter by bar attributes\n",
    "    - Including review ratings\n",
    "- For **High Level = BAR** : Link up (JSON) bar name, happy hour days, drinks/food disc?, region, reviews MADI\n",
    "- For **LOW LEVEL = HH**: include each happy hour separated by happy hour entry, pdf, bar info from above, phone, address BRIAN"
   ]
  },
  {
   "cell_type": "markdown",
   "metadata": {},
   "source": [
    "# Edit (UPDATE) *Identical to Create*\n",
    "- User (self)\n",
    "- Regions (admin)\n",
    "- Bars (managers, admin)\n",
    "    - Admin approval\n",
    "- Happy Hours (managers)\n",
    "- Features (admin)\n",
    "- Reviews (users)\n",
    "- BarFeatures (managers)"
   ]
  },
  {
   "cell_type": "markdown",
   "metadata": {},
   "source": [
    "# Delete\n",
    "- User (admin)\n",
    "- Regions (admin)\n",
    "- Bars (managers)\n",
    "    - Call delete all happy hours\n",
    "    - Call delete on all bar features\n",
    "- Happy Hours (managers)\n",
    "- Features (admin)\n",
    "- Reviews (users)\n",
    "- BarFeatures (managers)"
   ]
  }
 ],
 "metadata": {
  "kernelspec": {
   "display_name": "Python 3",
   "language": "python",
   "name": "python3"
  },
  "language_info": {
   "codemirror_mode": {
    "name": "ipython",
    "version": 3
   },
   "file_extension": ".py",
   "mimetype": "text/x-python",
   "name": "python",
   "nbconvert_exporter": "python",
   "pygments_lexer": "ipython3",
   "version": "3.7.3"
  }
 },
 "nbformat": 4,
 "nbformat_minor": 2
}
