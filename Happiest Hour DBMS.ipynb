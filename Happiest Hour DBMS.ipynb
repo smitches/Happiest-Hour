{
 "cells": [
  {
   "cell_type": "markdown",
   "metadata": {},
   "source": [
    "# The Happiest Hour\n",
    "- Madi Gwynn\n",
    "- Brian Smith-Eitches\n",
    "\n",
    "## Set Up"
   ]
  },
  {
   "cell_type": "code",
   "execution_count": 168,
   "metadata": {},
   "outputs": [],
   "source": [
    "import sqlite3\n",
    "import json"
   ]
  },
  {
   "cell_type": "code",
   "execution_count": 169,
   "metadata": {},
   "outputs": [],
   "source": [
    "# Connect/Create(if does not exist) to a database formatted as a sqlite database \n",
    "db=sqlite3.connect(\"./happy_hour.db\")"
   ]
  },
  {
   "cell_type": "code",
   "execution_count": 170,
   "metadata": {},
   "outputs": [],
   "source": [
    "cursor = db.cursor()"
   ]
  },
  {
   "cell_type": "markdown",
   "metadata": {},
   "source": [
    "## Create Database Tables"
   ]
  },
  {
   "cell_type": "code",
   "execution_count": 171,
   "metadata": {},
   "outputs": [],
   "source": [
    "cursor.execute('''\n",
    "    CREATE TABLE regions(\n",
    "        rid INTEGER PRIMARY KEY,\n",
    "        title TEXT)\n",
    "''')\n",
    "db.commit()"
   ]
  },
  {
   "cell_type": "code",
   "execution_count": 172,
   "metadata": {},
   "outputs": [],
   "source": [
    "cursor.execute('''\n",
    "    CREATE TABLE users(\n",
    "        uid INTEGER PRIMARY KEY,\n",
    "        name TEXT,\n",
    "        admin INTEGER)\n",
    "''')\n",
    "db.commit()"
   ]
  },
  {
   "cell_type": "code",
   "execution_count": 173,
   "metadata": {},
   "outputs": [],
   "source": [
    "cursor.execute('''\n",
    "    CREATE TABLE bars(\n",
    "        bid INTEGER PRIMARY KEY,\n",
    "        name TEXT,\n",
    "        region_id INTEGER,\n",
    "        manager_id INTERGER,\n",
    "        address TEXT,\n",
    "        phone_number TEXT,\n",
    "        approved INTEGER,\n",
    "        FOREIGN KEY(region_id) REFERENCES regions(rid),\n",
    "        FOREIGN KEY(manager_id) REFERENCES users(uid)\n",
    "        )\n",
    "''')\n",
    "db.commit()"
   ]
  },
  {
   "cell_type": "code",
   "execution_count": 174,
   "metadata": {},
   "outputs": [],
   "source": [
    "cursor.execute('''\n",
    "    CREATE TABLE bar_features(\n",
    "        bfid INTEGER PRIMARY KEY,\n",
    "        bar_id INTEGER,\n",
    "        feature_id INTEGER,\n",
    "        FOREIGN KEY(bar_id) REFERENCES bars(bid),\n",
    "        FOREIGN KEY(feature_id) REFERENCES features(fid))''')\n",
    "db.commit()"
   ]
  },
  {
   "cell_type": "code",
   "execution_count": 175,
   "metadata": {},
   "outputs": [],
   "source": [
    "cursor.execute('''\n",
    "    CREATE TABLE features(\n",
    "        fid INTEGER PRIMARY KEY,\n",
    "        feature TEXT,\n",
    "        description TEXT)\n",
    "''')\n",
    "db.commit()"
   ]
  },
  {
   "cell_type": "code",
   "execution_count": 176,
   "metadata": {},
   "outputs": [],
   "source": [
    "cursor.execute('''\n",
    "    CREATE TABLE happy_hours(\n",
    "        hhid INTEGER PRIMARY KEY, \n",
    "        day_of_week VARCHAR(2), \n",
    "        start_time TIME, \n",
    "        end_time TIME,\n",
    "        bar_id INTEGER,\n",
    "        drinks INTEGER,\n",
    "        food INTEGER,\n",
    "        menu_pdf TEXT,\n",
    "        FOREIGN KEY(bar_id) REFERENCES bars(bid))\n",
    "''')\n",
    "db.commit()"
   ]
  },
  {
   "cell_type": "code",
   "execution_count": 177,
   "metadata": {},
   "outputs": [],
   "source": [
    "cursor.execute('''\n",
    "    CREATE TABLE reviews(\n",
    "        rid INTEGER PRIMARY KEY, \n",
    "        user_id INTEGER,\n",
    "        bar_id INTEGER,\n",
    "        star_count INTEGER,\n",
    "        FOREIGN KEY(user_id) REFERENCES users(uid), \n",
    "        FOREIGN KEY(bar_id) REFERENCES bars(bid))\n",
    "''')\n",
    "db.commit()"
   ]
  },
  {
   "cell_type": "markdown",
   "metadata": {},
   "source": [
    "# Functions for implementation"
   ]
  },
  {
   "cell_type": "markdown",
   "metadata": {},
   "source": [
    "# Create \n",
    "- User (self) BRIAN\n",
    "- Regions (admin) BRIAN\n",
    "- Bars (managers, default to *unvetted*) MADI\n",
    "- Happy Hours (managers) MADI\n",
    "- Features (admin) BRIAN\n",
    "- Reviews (users) MADI \n",
    "- BarFeatures (managers) BRIAN"
   ]
  },
  {
   "cell_type": "code",
   "execution_count": 178,
   "metadata": {},
   "outputs": [],
   "source": [
    "def create_user(name, admin=False):\n",
    "    cursor.execute('''INSERT INTO users(name, admin)\n",
    "                  VALUES(?,?)''', (name, admin))\n",
    "    db.commit()"
   ]
  },
  {
   "cell_type": "code",
   "execution_count": 179,
   "metadata": {},
   "outputs": [],
   "source": [
    "def create_region(title):\n",
    "    cursor.execute('''INSERT INTO regions(title) VALUES(:title)''',\n",
    "                   {'title':title})\n",
    "    \n",
    "    db.commit()\n",
    "    "
   ]
  },
  {
   "cell_type": "code",
   "execution_count": 180,
   "metadata": {},
   "outputs": [],
   "source": [
    "def create_feature(feature, description):\n",
    "    cursor.execute('''INSERT INTO features(feature, description) \n",
    "                    VALUES(?,?)''', (feature, description))\n",
    "    db.commit()\n",
    "    \n",
    "    "
   ]
  },
  {
   "cell_type": "code",
   "execution_count": 181,
   "metadata": {},
   "outputs": [],
   "source": [
    "def create_bar_feature(bar_id, feature_id):\n",
    "    cursor.execute('''INSERT INTO bar_features(bar_id, feature_id)\n",
    "                    VALUEs(?,?)''', (bar_id, feature_id))\n",
    "    db.commit()"
   ]
  },
  {
   "cell_type": "code",
   "execution_count": 182,
   "metadata": {},
   "outputs": [],
   "source": [
    "#create_bar function \n",
    "def create_bar(name, region_id, manager_id, address, phone_number, approved=False):\n",
    "    cursor.execute('''INSERT INTO bars(name, region_id, manager_id, address, phone_number, approved) \n",
    "                    VALUES(?,?,?,?,?,?)''', (name, region_id, manager_id, address, phone_number, approved))\n",
    "    db.commit()\n",
    "    "
   ]
  },
  {
   "cell_type": "code",
   "execution_count": 183,
   "metadata": {},
   "outputs": [],
   "source": [
    "#create_happy_hours function \n",
    "def create_happy_hour(day_of_week, start_time, end_time, bar_id, drinks, food, menu_pdf):\n",
    "    cursor.execute('''INSERT INTO happy_hours(day_of_week, start_time, end_time, bar_id, drinks, food, menu_pdf) \n",
    "                    VALUES(?,?,?,?,?,?,?)''', (day_of_week, start_time, end_time, bar_id, drinks, food, menu_pdf))\n",
    "    db.commit()\n",
    "    "
   ]
  },
  {
   "cell_type": "code",
   "execution_count": 184,
   "metadata": {},
   "outputs": [],
   "source": [
    "def create_review(user_id, bar_id, star_count):\n",
    "    cursor.execute('''INSERT INTO reviews(user_id, bar_id, star_count) \n",
    "                    VALUES(?,?,?)''', (user_id, bar_id, star_count))\n",
    "    db.commit()    "
   ]
  },
  {
   "cell_type": "markdown",
   "metadata": {},
   "source": [
    "# Display (READ)\n",
    "- Only show bars & its HH's that have been approved BRIAN. Done.\n",
    "- Users Filter by bar attributes BRIAN Done.\n",
    "    - Review ratings\n",
    "    - Bar_features\n",
    "    - Regions\n",
    "- For **High Level = BAR** : Link up (JSON) bar name, happy hour days, drinks/food disc?, region, reviews MADI TODO\n",
    "- For **LOW LEVEL = HH**: include each happy hour separated by happy hour entry, pdf, bar info from above, phone, address BRIAN Done."
   ]
  },
  {
   "cell_type": "code",
   "execution_count": 185,
   "metadata": {},
   "outputs": [],
   "source": [
    "# returns approved bars\n",
    "def all_approved_bars():\n",
    "    cursor.execute('''SELECT bid FROM bars \n",
    "                        WHERE approved = True''')\n",
    "    approved_bars = cursor.fetchall()\n",
    "    \n",
    "    approved_ids = []\n",
    "    for id in approved_bars:\n",
    "        approved_ids.append(id[0])\n",
    "    return approved_ids"
   ]
  },
  {
   "cell_type": "code",
   "execution_count": 186,
   "metadata": {},
   "outputs": [],
   "source": [
    "# returns approved happy hours\n",
    "def all_approved_hhs():\n",
    "    cursor.execute('''SELECT hhid FROM happy_hours JOIN bars on bar_id = bid WHERE approved = True''')\n",
    "    approved_hhs = cursor.fetchall()\n",
    "    \n",
    "    approved_ids = []\n",
    "    for id in approved_hhs:\n",
    "        approved_ids.append(id[0])\n",
    "    return approved_ids"
   ]
  },
  {
   "cell_type": "code",
   "execution_count": 187,
   "metadata": {},
   "outputs": [],
   "source": [
    "# filter bars by regions\n",
    "def bars_in_regions(region_ids = None):\n",
    "    if not region_ids:\n",
    "        return all_approved_bars()\n",
    "    \n",
    "    bar_ids = []\n",
    "    \n",
    "    for region_id in region_ids:\n",
    "        cursor.execute('''SELECT bid FROM bars WHERE region_id = (:region_id) AND approved = True''',\n",
    "                  {'region_id':region_id})\n",
    "        region_bars = cursor.fetchall()\n",
    "        for id in region_bars:\n",
    "            bar_ids.append(id[0])\n",
    "            \n",
    "    return bar_ids"
   ]
  },
  {
   "cell_type": "code",
   "execution_count": 188,
   "metadata": {},
   "outputs": [],
   "source": [
    "# filter bars by features\n",
    "def bars_with_features(feature_ids = None):\n",
    "    if not feature_ids:\n",
    "        return all_approved_bars()\n",
    "    \n",
    "    bar_ids = []\n",
    "    \n",
    "    for feature_id in feature_ids:\n",
    "        cursor.execute('''SELECT bid FROM bars JOIN bar_features on bid = bar_id WHERE\n",
    "                        feature_id = (:feature_id) AND approved = True''',\n",
    "                      {'feature_id':feature_id})\n",
    "        feature_bars = cursor.fetchall()\n",
    "        for id in feature_bars:\n",
    "            bar_ids.append(id[0])\n",
    "            \n",
    "    return bar_ids"
   ]
  },
  {
   "cell_type": "code",
   "execution_count": 189,
   "metadata": {},
   "outputs": [],
   "source": [
    "# filter bars that meet minimum ratings\n",
    "def bars_with_rating(min_rating = 0):\n",
    "    if min_rating == 0:\n",
    "        return all_approved_bars()\n",
    "    \n",
    "    cursor.execute('''SELECT bid FROM bars JOIN reviews on bid = bar_id WHERE approved = True\n",
    "                    GROUP BY bid HAVING AVG(star_count) >= (:min_rating)''',\n",
    "                    {'min_rating':min_rating})\n",
    "    \n",
    "    bar_ids = []\n",
    "    rated_bars = cursor.fetchall()\n",
    "    for id in rated_bars:\n",
    "        bar_ids.append(id[0])\n",
    "\n",
    "    return bar_ids"
   ]
  },
  {
   "cell_type": "code",
   "execution_count": 190,
   "metadata": {},
   "outputs": [],
   "source": [
    "#REGION IDS AND FEATURE IDS IS ALWAYS A LIST WHEN SOMETHING IS CHOSEN\n",
    "# filter bars that meet all region, feature, and minimum rating requirements\n",
    "def filter_bars(region_ids = None, feature_ids = None, min_rating = 0):\n",
    "    \n",
    "    filtered_bar_ids = list(set(bars_in_regions(region_ids)) & set(bars_with_features(feature_ids)) & set(bars_with_rating(min_rating))) \n",
    "    \n",
    "    #create a list of bar dictionaries\n",
    "    bars = [display_bar(bar_id) for bar_id in filtered_bar_ids]\n",
    "    json_object = json.dumps({'bars':bars})\n",
    "    \n",
    "    return json_object    "
   ]
  },
  {
   "cell_type": "code",
   "execution_count": 191,
   "metadata": {},
   "outputs": [],
   "source": [
    "# output of this function is a dictionary - can later be converted to a json object \n",
    "def display_bar(bar_id):\n",
    "    #create empty dictionary\n",
    "    bar = {}\n",
    "    \n",
    "    #add bar name and region to dictionary\n",
    "    cursor.execute('''SELECT name, title FROM bars JOIN regions ON region_id = rid\n",
    "                        WHERE bid=(:bid) ''', {'bid':bar_id})\n",
    "    bar_info = cursor.fetchone()\n",
    "    bar['name'] = bar_info[0]\n",
    "    bar['region'] = bar_info[1]\n",
    "    \n",
    "    #add happy hour days, if drinks and food are discounted to dictionary \n",
    "    cursor.execute('''SELECT day_of_week, drinks, food FROM happy_hours\n",
    "                        WHERE bar_id=(:bar_id)''', {'bar_id':bar_id})\n",
    "    hh_info = cursor.fetchall()\n",
    "    hh_days = []\n",
    "    drinks_check = \"FALSE\"\n",
    "    food_check = \"FALSE\"\n",
    "    \n",
    "    for hh in hh_info:\n",
    "        hh_days.append(hh[0])\n",
    "        if hh[1] == 1:\n",
    "            drinks_check = \"TRUE\"\n",
    "        if hh[2] == 1:\n",
    "            food_check = \"TRUE\"\n",
    "    \n",
    "    bar['days'] = hh_days\n",
    "    bar['drinks'] = drinks_check\n",
    "    bar['food'] = food_check\n",
    "    \n",
    "    #add reviews score to dictionary \n",
    "    cursor.execute('''SELECT AVG(star_count) FROM reviews \n",
    "                        WHERE bar_id=(:bar_id)''', {'bar_id':bar_id})\n",
    "    star_counts = cursor.fetchone()\n",
    "    bar['reviews'] = star_counts[0]\n",
    "\n",
    "    #return dictionary \n",
    "    return bar"
   ]
  },
  {
   "cell_type": "code",
   "execution_count": 192,
   "metadata": {},
   "outputs": [],
   "source": [
    "# output of this function is a dictionary - can later be converted to a json object \n",
    "# calls the display_bar function \n",
    "def display_bar_hhs(bar_id):\n",
    "    \n",
    "    #create bar dictionary \n",
    "    bar = display_bar(bar_id)\n",
    "    \n",
    "    #create happy hour list\n",
    "    hh = []\n",
    "    \n",
    "    cursor.execute('''SELECT hhid FROM happy_hours\n",
    "                        WHERE bar_id=(:bar_id)''', {'bar_id':bar_id})\n",
    "    hh_ids = cursor.fetchall()\n",
    "    \n",
    "    for hh_id in hh_ids:\n",
    "        #create a happy hour info dictionary for each happy hour\n",
    "        hh_dict = {}\n",
    "        \n",
    "        cursor.execute('''SELECT day_of_week, start_time, end_time, drinks, food, menu_pdf FROM happy_hours\n",
    "                        WHERE hhid=(:hhid)''', {'hhid':hh_id[0]})\n",
    "        \n",
    "        hh_info = cursor.fetchone()\n",
    "        \n",
    "        hh_dict['day'] = hh_info[0]\n",
    "        hh_dict['start'] = hh_info[1]\n",
    "        hh_dict['end'] = hh_info[2]\n",
    "        hh_dict['drinks_discount'] = hh_info[3]\n",
    "        hh_dict['food_discount'] = hh_info[4]\n",
    "        hh_dict['menu'] = hh_info[5]\n",
    "        \n",
    "        hh.append(hh_dict)\n",
    "    \n",
    "    bar['happy_hours'] = hh\n",
    "    \n",
    "    #return dictionary\n",
    "    return bar"
   ]
  },
  {
   "cell_type": "markdown",
   "metadata": {},
   "source": [
    "# Edit (UPDATE) *Identical to Create*\n",
    "- User (self) BRIAN\n",
    "- Regions (admin) BRIAN\n",
    "- Bars (managers, admin) MADI\n",
    "    - Also admin approval\n",
    "- Happy Hours (managers) MADI\n",
    "- Features (admin) BRIAN\n",
    "- Reviews (users) MADI\n",
    "- BarFeatures (managers) BRIAN **Achieved via add feature and delete feature**"
   ]
  },
  {
   "cell_type": "code",
   "execution_count": 193,
   "metadata": {},
   "outputs": [],
   "source": [
    "def edit_user(uid, name, admin=False):\n",
    "    cursor.execute('''UPDATE users SET name=(:name), admin=(:admin)\n",
    "                  WHERE uid=(:uid)''', {'uid':uid,'name':name,'admin':admin})\n",
    "    db.commit()"
   ]
  },
  {
   "cell_type": "code",
   "execution_count": 194,
   "metadata": {},
   "outputs": [],
   "source": [
    "def edit_region(rid, title):\n",
    "    cursor.execute('''UPDATE regions SET title=(:title)\n",
    "                  WHERE rid=(:rid)''', {'rid':rid,'title':title})\n",
    "    db.commit()"
   ]
  },
  {
   "cell_type": "code",
   "execution_count": 195,
   "metadata": {},
   "outputs": [],
   "source": [
    "def edit_feature(fid, feature, description):\n",
    "    cursor.execute('''UPDATE features SET feature=(:feature), description=(:description)\n",
    "                  WHERE fid=(:fid)''', {'fid':fid,'feature':feature,'description':description})\n",
    "    db.commit()"
   ]
  },
  {
   "cell_type": "code",
   "execution_count": 196,
   "metadata": {},
   "outputs": [],
   "source": [
    "def edit_bar(bid, name, region_id, manager_id, address, phone_number):\n",
    "    cursor.execute('''UPDATE bars SET name=(:name), region_id=(:region_id), manager_id=(:manager_id), address=(:address), phone_number=(:phone_number)\n",
    "                  WHERE bid=(:bid)''', {'bid':bid,'name':name,'region_id':region_id, 'manager_id':manager_id, 'address':address, 'phone_number':phone_number})\n",
    "    db.commit()"
   ]
  },
  {
   "cell_type": "code",
   "execution_count": 197,
   "metadata": {},
   "outputs": [],
   "source": [
    "def approve_bar(bid, approved=True):\n",
    "    cursor.execute('''UPDATE bars SET approved=(:approved)\n",
    "                        WHERE bid=(:bid)''', {'bid':bid,'approved':approved})\n",
    "    db.commit() "
   ]
  },
  {
   "cell_type": "code",
   "execution_count": 198,
   "metadata": {},
   "outputs": [],
   "source": [
    "def edit_happy_hour(hhid, day_of_week, start_time, end_time, bar_id, drinks, food, menu_pdf):\n",
    "    cursor.execute('''UPDATE happy_hours SET day_of_week=(:day_of_week), start_time=(:start_time), end_time=(:end_time), bar_id=(:bar_id), drinks=(:drinks), food=(:food), menu_pdf=(:menu_pdf)\n",
    "                  WHERE hhid=(:hhid)''', {'hhid':hhid,'day_of_week':day_of_week,'start_time':start_time,'end_time':end_time,'bar_id':bar_id,'drinks':drinks,'food':food,'menu_pdf':menu_pdf})\n",
    "    db.commit()"
   ]
  },
  {
   "cell_type": "code",
   "execution_count": 199,
   "metadata": {},
   "outputs": [],
   "source": [
    "def edit_review(rid, bar_id, star_count):\n",
    "    cursor.execute('''UPDATE reviews SET bar_id=(:bar_id), star_count=(:star_count)\n",
    "                        WHERE rid=(:rid)''', {'rid':rid,'bar_id':bar_id, 'star_count':star_count})\n",
    "    db.commit() "
   ]
  },
  {
   "cell_type": "markdown",
   "metadata": {},
   "source": [
    "# Delete\n",
    "- User (admin) BRIAN\n",
    "- Regions (admin) BRIAN\n",
    "- Bars (managers) MADI\n",
    "    - Call delete all happy hours\n",
    "    - Call delete on all bar features\n",
    "- Happy Hours (managers) MADI\n",
    "- Features (admin) BRIAN\n",
    "    - Remove all barfeatures with that feature\n",
    "- Reviews (users) MADI\n",
    "- BarFeatures (managers) BRIAN"
   ]
  },
  {
   "cell_type": "code",
   "execution_count": 200,
   "metadata": {},
   "outputs": [],
   "source": [
    "#only admins can call this in the interface\n",
    "def delete_user(user_id):\n",
    "    cursor.execute('''DELETE FROM users WHERE\n",
    "                  uid=(:user_id)''', {'user_id':user_id})\n",
    "    db.commit()"
   ]
  },
  {
   "cell_type": "code",
   "execution_count": 201,
   "metadata": {},
   "outputs": [],
   "source": [
    "def delete_region(region_id):\n",
    "    cursor.execute('''DELETE FROM regions\n",
    "                    WHERE rid=(:rid)''', {'rid':region_id})\n",
    "    \n",
    "    db.commit()\n",
    "    "
   ]
  },
  {
   "cell_type": "code",
   "execution_count": 202,
   "metadata": {},
   "outputs": [],
   "source": [
    "def delete_feature(feature_id):\n",
    "    cursor.execute('''DELETE FROM bar_features WHERE feature_id=(:feature_id)''', {'feature_id':feature_id})\n",
    "    cursor.execute('''DELETE FROM features WHERE fid=(:feature_id)''',{'feature_id':feature_id})\n",
    "    db.commit()\n",
    "    \n",
    "    "
   ]
  },
  {
   "cell_type": "code",
   "execution_count": 203,
   "metadata": {},
   "outputs": [],
   "source": [
    "def delete_bar_feature(bar_id, feature_id):\n",
    "    cursor.execute('''DELETE FROM bar_features WHERE bar_id=(:bar_id) AND feature_id=(:feature_id)\n",
    "                    ''', {'bar_id':bar_id, 'feature_id':feature_id})\n",
    "    db.commit()"
   ]
  },
  {
   "cell_type": "code",
   "execution_count": 204,
   "metadata": {},
   "outputs": [],
   "source": [
    "def delete_bar(bar_id):\n",
    "    cursor.execute('''DELETE FROM bar_features WHERE bar_id=(:bar_id)''', {'bar_id':bar_id})\n",
    "    cursor.execute('''DELETE FROM happy_hours WHERE bar_id=(:bar_id)''', {'bar_id':bar_id})\n",
    "    cursor.execute('''DELETE FROM bars WHERE bid=(:bar_id)''', {'bar_id':bar_id})\n",
    "    db.commit()"
   ]
  },
  {
   "cell_type": "code",
   "execution_count": 205,
   "metadata": {},
   "outputs": [],
   "source": [
    "def delete_happy_hour(hhid):\n",
    "    cursor.execute('''DELETE FROM happy_hours WHERE hhid=(:hhid)''', {'hhid':hhid})\n",
    "    db.commit()"
   ]
  },
  {
   "cell_type": "code",
   "execution_count": 206,
   "metadata": {},
   "outputs": [],
   "source": [
    "def delete_review(rid):\n",
    "    cursor.execute('''DELETE FROM reviews WHERE rid=(:rid)''', {'rid':rid})\n",
    "    db.commit()"
   ]
  },
  {
   "cell_type": "markdown",
   "metadata": {},
   "source": [
    "# Seeding/Testing"
   ]
  },
  {
   "cell_type": "markdown",
   "metadata": {},
   "source": [
    "## Create"
   ]
  },
  {
   "cell_type": "code",
   "execution_count": 207,
   "metadata": {},
   "outputs": [],
   "source": [
    "create_user(\"Hopdoddy Manager\")\n",
    "create_user(\"Able's Manager\")\n",
    "create_user(\"Pluckers Manager\")\n",
    "create_user(\"The Local Manager\")\n",
    "create_user(\"Student\")"
   ]
  },
  {
   "cell_type": "code",
   "execution_count": 208,
   "metadata": {},
   "outputs": [
    {
     "data": {
      "text/plain": [
       "[(1, 'Hopdoddy Manager', 0),\n",
       " (2, \"Able's Manager\", 0),\n",
       " (3, 'Pluckers Manager', 0),\n",
       " (4, 'The Local Manager', 0),\n",
       " (5, 'Student', 0)]"
      ]
     },
     "execution_count": 208,
     "metadata": {},
     "output_type": "execute_result"
    }
   ],
   "source": [
    "cursor.execute('''SELECT * FROM users''')\n",
    "cursor.fetchall()"
   ]
  },
  {
   "cell_type": "code",
   "execution_count": 209,
   "metadata": {},
   "outputs": [],
   "source": [
    "create_region(\"Domain\")\n",
    "create_region(\"6th Street\")\n",
    "create_region(\"West Campus\")\n",
    "create_region(\"Rainy St\")"
   ]
  },
  {
   "cell_type": "code",
   "execution_count": 210,
   "metadata": {},
   "outputs": [
    {
     "data": {
      "text/plain": [
       "[(1, 'Domain'), (2, '6th Street'), (3, 'West Campus'), (4, 'Rainy St')]"
      ]
     },
     "execution_count": 210,
     "metadata": {},
     "output_type": "execute_result"
    }
   ],
   "source": [
    "cursor.execute('''SELECT * FROM regions''')\n",
    "cursor.fetchall()"
   ]
  },
  {
   "cell_type": "code",
   "execution_count": 211,
   "metadata": {},
   "outputs": [],
   "source": [
    "create_feature(\"Pool\",\"Pool where customers can drink and swim\")\n",
    "create_feature(\"Restaurant\", \"The bar has a restaurant\")\n",
    "create_feature(\"Pool Table\", \"This bar has pool tables to play games\")"
   ]
  },
  {
   "cell_type": "code",
   "execution_count": 212,
   "metadata": {},
   "outputs": [
    {
     "data": {
      "text/plain": [
       "[(1, 'Pool', 'Pool where customers can drink and swim'),\n",
       " (2, 'Restaurant', 'The bar has a restaurant'),\n",
       " (3, 'Pool Table', 'This bar has pool tables to play games')]"
      ]
     },
     "execution_count": 212,
     "metadata": {},
     "output_type": "execute_result"
    }
   ],
   "source": [
    "cursor.execute('''SELECT * FROM features''')\n",
    "cursor.fetchall()"
   ]
  },
  {
   "cell_type": "code",
   "execution_count": 213,
   "metadata": {},
   "outputs": [],
   "source": [
    "create_bar(\"Hopdoddy\",1, 1, \"My Address\", \"1234567890\")\n",
    "create_bar(\"Rio Rooftop\", 2, 2, \"My Address\", \"1234567890\")\n",
    "create_bar(\"Cain and Able's\", 3, 3, \"My Address\", \"1234567890\")\n",
    "create_bar(\"Pluckers\", 3, 4, \"My Address\", \"1234567890\")\n",
    "create_bar(\"The Local\", 3, 5, \"My Address\", \"1234567890\")"
   ]
  },
  {
   "cell_type": "code",
   "execution_count": 214,
   "metadata": {},
   "outputs": [
    {
     "data": {
      "text/plain": [
       "[(1, 'Hopdoddy', 1, 1, 'My Address', '1234567890', 0),\n",
       " (2, 'Rio Rooftop', 2, 2, 'My Address', '1234567890', 0),\n",
       " (3, \"Cain and Able's\", 3, 3, 'My Address', '1234567890', 0),\n",
       " (4, 'Pluckers', 3, 4, 'My Address', '1234567890', 0),\n",
       " (5, 'The Local', 3, 5, 'My Address', '1234567890', 0)]"
      ]
     },
     "execution_count": 214,
     "metadata": {},
     "output_type": "execute_result"
    }
   ],
   "source": [
    "cursor.execute('''SELECT * FROM bars''')\n",
    "cursor.fetchall()"
   ]
  },
  {
   "cell_type": "code",
   "execution_count": 215,
   "metadata": {},
   "outputs": [],
   "source": [
    "create_bar_feature(1,2)\n",
    "create_bar_feature(2,1)\n",
    "create_bar_feature(3,3)\n",
    "create_bar_feature(4,2)\n",
    "create_bar_feature(5,3)"
   ]
  },
  {
   "cell_type": "code",
   "execution_count": 216,
   "metadata": {},
   "outputs": [
    {
     "data": {
      "text/plain": [
       "[(1, 1, 2), (2, 2, 1), (3, 3, 3), (4, 4, 2), (5, 5, 3)]"
      ]
     },
     "execution_count": 216,
     "metadata": {},
     "output_type": "execute_result"
    }
   ],
   "source": [
    "cursor.execute('''SELECT * FROM bar_features''')\n",
    "cursor.fetchall()"
   ]
  },
  {
   "cell_type": "code",
   "execution_count": 217,
   "metadata": {},
   "outputs": [],
   "source": [
    "create_happy_hour(\"M\", \"17:00\", \"19:00\", 1, True, True, \"./menus/hopdoddy_menu.pdf\")\n",
    "create_happy_hour(\"T\", \"17:00\", \"19:00\", 1, True, True, \"./menus/hopdoddy_menu.pdf\")\n",
    "create_happy_hour(\"W\", \"17:00\", \"19:00\", 1, True, True, \"./menus/hopdoddy_menu.pdf\")\n",
    "create_happy_hour(\"Th\", \"17:00\", \"19:00\", 1, True, True, \"./menus/hopdoddy_menu.pdf\")\n",
    "create_happy_hour(\"F\", \"17:00\", \"19:00\", 1, True, True, \"./menus/hopdoddy_menu.pdf\")\n",
    "\n",
    "create_happy_hour(\"T\", \"18:00\", \"20:00\", 2, True, False, \"./menus/rio_menu.pdf\")\n",
    "create_happy_hour(\"Th\", \"18:00\", \"20:00\", 2, True, False, \"./menus/rio_menu.pdf\")\n",
    "\n",
    "create_happy_hour(\"T\", \"12:00\", \"0:00\", 3, True, False, \"./menus/ables_menu.pdf\")\n",
    "create_happy_hour(\"W\", \"12:00\", \"0:00\", 3, True, False, \"./menus/ables_menu.pdf\")\n",
    "create_happy_hour(\"Th\", \"12:00\", \"0:00\", 3, True, False, \"./menus/ables_menu.pdf\")\n",
    "\n",
    "create_happy_hour(\"W\", \"17:00\", \"19:00\", 4, True, True, \"./menus/pluckers_menu.pdf\")\n",
    "\n",
    "create_happy_hour(\"M\", \"17:00\", \"19:00\", 5, True, False, \"./menus/local_menu.pdf\")\n",
    "create_happy_hour(\"T\", \"17:00\", \"19:00\", 5, True, False, \"./menus/local_menu.pdf\")\n",
    "create_happy_hour(\"W\", \"17:00\", \"19:00\", 5, True, False, \"./menus/local_menu.pdf\")\n",
    "create_happy_hour(\"Th\", \"17:00\", \"19:00\", 5, True, False, \"./menus/local_menu.pdf\")"
   ]
  },
  {
   "cell_type": "code",
   "execution_count": 218,
   "metadata": {},
   "outputs": [
    {
     "data": {
      "text/plain": [
       "[(1, 'M', '17:00', '19:00', 1, 1, 1, './menus/hopdoddy_menu.pdf'),\n",
       " (2, 'T', '17:00', '19:00', 1, 1, 1, './menus/hopdoddy_menu.pdf'),\n",
       " (3, 'W', '17:00', '19:00', 1, 1, 1, './menus/hopdoddy_menu.pdf'),\n",
       " (4, 'Th', '17:00', '19:00', 1, 1, 1, './menus/hopdoddy_menu.pdf'),\n",
       " (5, 'F', '17:00', '19:00', 1, 1, 1, './menus/hopdoddy_menu.pdf'),\n",
       " (6, 'T', '18:00', '20:00', 2, 1, 0, './menus/rio_menu.pdf'),\n",
       " (7, 'Th', '18:00', '20:00', 2, 1, 0, './menus/rio_menu.pdf'),\n",
       " (8, 'T', '12:00', '0:00', 3, 1, 0, './menus/ables_menu.pdf'),\n",
       " (9, 'W', '12:00', '0:00', 3, 1, 0, './menus/ables_menu.pdf'),\n",
       " (10, 'Th', '12:00', '0:00', 3, 1, 0, './menus/ables_menu.pdf'),\n",
       " (11, 'W', '17:00', '19:00', 4, 1, 1, './menus/pluckers_menu.pdf'),\n",
       " (12, 'M', '17:00', '19:00', 5, 1, 0, './menus/local_menu.pdf'),\n",
       " (13, 'T', '17:00', '19:00', 5, 1, 0, './menus/local_menu.pdf'),\n",
       " (14, 'W', '17:00', '19:00', 5, 1, 0, './menus/local_menu.pdf'),\n",
       " (15, 'Th', '17:00', '19:00', 5, 1, 0, './menus/local_menu.pdf')]"
      ]
     },
     "execution_count": 218,
     "metadata": {},
     "output_type": "execute_result"
    }
   ],
   "source": [
    "cursor.execute('''SELECT * FROM happy_hours''')\n",
    "cursor.fetchall()"
   ]
  },
  {
   "cell_type": "code",
   "execution_count": 219,
   "metadata": {},
   "outputs": [],
   "source": [
    "create_review(5, 1, 5)\n",
    "create_review(5, 2, 3)\n",
    "create_review(5, 4, 2)\n",
    "create_review(5, 1, 2)\n",
    "create_review(5, 3, 5)"
   ]
  },
  {
   "cell_type": "code",
   "execution_count": 220,
   "metadata": {},
   "outputs": [
    {
     "data": {
      "text/plain": [
       "[(1, 5, 1, 5), (2, 5, 2, 3), (3, 5, 4, 2), (4, 5, 1, 2), (5, 5, 3, 5)]"
      ]
     },
     "execution_count": 220,
     "metadata": {},
     "output_type": "execute_result"
    }
   ],
   "source": [
    "cursor.execute('''SELECT * FROM reviews''')\n",
    "cursor.fetchall()"
   ]
  },
  {
   "cell_type": "markdown",
   "metadata": {},
   "source": [
    "## Approve Bars"
   ]
  },
  {
   "cell_type": "code",
   "execution_count": 221,
   "metadata": {},
   "outputs": [],
   "source": [
    "approve_bar(1)\n",
    "approve_bar(3)\n",
    "approve_bar(4)\n",
    "approve_bar(5)"
   ]
  },
  {
   "cell_type": "markdown",
   "metadata": {},
   "source": [
    "## Read"
   ]
  },
  {
   "cell_type": "code",
   "execution_count": 222,
   "metadata": {},
   "outputs": [
    {
     "data": {
      "text/plain": [
       "[1, 3, 4, 5]"
      ]
     },
     "execution_count": 222,
     "metadata": {},
     "output_type": "execute_result"
    }
   ],
   "source": [
    "all_approved_bars()"
   ]
  },
  {
   "cell_type": "code",
   "execution_count": 223,
   "metadata": {},
   "outputs": [
    {
     "data": {
      "text/plain": [
       "[1, 2, 3, 4, 5, 8, 9, 10, 11, 12, 13, 14, 15]"
      ]
     },
     "execution_count": 223,
     "metadata": {},
     "output_type": "execute_result"
    }
   ],
   "source": [
    "all_approved_hhs()"
   ]
  },
  {
   "cell_type": "code",
   "execution_count": 224,
   "metadata": {},
   "outputs": [
    {
     "data": {
      "text/plain": [
       "[1, 3, 4, 5]"
      ]
     },
     "execution_count": 224,
     "metadata": {},
     "output_type": "execute_result"
    }
   ],
   "source": [
    "bars_in_regions([1,3])"
   ]
  },
  {
   "cell_type": "code",
   "execution_count": 225,
   "metadata": {},
   "outputs": [
    {
     "data": {
      "text/plain": [
       "[3, 4, 5]"
      ]
     },
     "execution_count": 225,
     "metadata": {},
     "output_type": "execute_result"
    }
   ],
   "source": [
    "bars_in_regions([3])"
   ]
  },
  {
   "cell_type": "code",
   "execution_count": 226,
   "metadata": {},
   "outputs": [
    {
     "data": {
      "text/plain": [
       "[3, 5]"
      ]
     },
     "execution_count": 226,
     "metadata": {},
     "output_type": "execute_result"
    }
   ],
   "source": [
    "bars_with_features([3])"
   ]
  },
  {
   "cell_type": "code",
   "execution_count": 227,
   "metadata": {},
   "outputs": [
    {
     "data": {
      "text/plain": [
       "[3]"
      ]
     },
     "execution_count": 227,
     "metadata": {},
     "output_type": "execute_result"
    }
   ],
   "source": [
    "bars_with_rating(5)"
   ]
  },
  {
   "cell_type": "markdown",
   "metadata": {},
   "source": [
    "## Display"
   ]
  },
  {
   "cell_type": "code",
   "execution_count": 228,
   "metadata": {},
   "outputs": [
    {
     "data": {
      "text/plain": [
       "[{'name': 'Hopdoddy',\n",
       "  'region': 'Domain',\n",
       "  'days': ['M', 'T', 'W', 'Th', 'F'],\n",
       "  'drinks': 'TRUE',\n",
       "  'food': 'TRUE',\n",
       "  'reviews': 3.5},\n",
       " {'name': \"Cain and Able's\",\n",
       "  'region': 'West Campus',\n",
       "  'days': ['T', 'W', 'Th'],\n",
       "  'drinks': 'TRUE',\n",
       "  'food': 'FALSE',\n",
       "  'reviews': 5.0},\n",
       " {'name': 'Pluckers',\n",
       "  'region': 'West Campus',\n",
       "  'days': ['W'],\n",
       "  'drinks': 'TRUE',\n",
       "  'food': 'TRUE',\n",
       "  'reviews': 2.0}]"
      ]
     },
     "execution_count": 228,
     "metadata": {},
     "output_type": "execute_result"
    }
   ],
   "source": [
    "filter_bars([],[],1)"
   ]
  },
  {
   "cell_type": "code",
   "execution_count": 229,
   "metadata": {},
   "outputs": [
    {
     "data": {
      "text/plain": [
       "[{'name': \"Cain and Able's\",\n",
       "  'region': 'West Campus',\n",
       "  'days': ['T', 'W', 'Th'],\n",
       "  'drinks': 'TRUE',\n",
       "  'food': 'FALSE',\n",
       "  'reviews': 5.0},\n",
       " {'name': 'Pluckers',\n",
       "  'region': 'West Campus',\n",
       "  'days': ['W'],\n",
       "  'drinks': 'TRUE',\n",
       "  'food': 'TRUE',\n",
       "  'reviews': 2.0},\n",
       " {'name': 'The Local',\n",
       "  'region': 'West Campus',\n",
       "  'days': ['M', 'T', 'W', 'Th'],\n",
       "  'drinks': 'TRUE',\n",
       "  'food': 'FALSE',\n",
       "  'reviews': None}]"
      ]
     },
     "execution_count": 229,
     "metadata": {},
     "output_type": "execute_result"
    }
   ],
   "source": [
    "filter_bars([3],[])"
   ]
  },
  {
   "cell_type": "code",
   "execution_count": 230,
   "metadata": {},
   "outputs": [
    {
     "data": {
      "text/plain": [
       "{'name': 'Hopdoddy',\n",
       " 'region': 'Domain',\n",
       " 'days': ['M', 'T', 'W', 'Th', 'F'],\n",
       " 'drinks': 'TRUE',\n",
       " 'food': 'TRUE',\n",
       " 'reviews': 3.5}"
      ]
     },
     "execution_count": 230,
     "metadata": {},
     "output_type": "execute_result"
    }
   ],
   "source": [
    "display_bar(1)"
   ]
  },
  {
   "cell_type": "code",
   "execution_count": 231,
   "metadata": {},
   "outputs": [
    {
     "data": {
      "text/plain": [
       "{'name': \"Cain and Able's\",\n",
       " 'region': 'West Campus',\n",
       " 'days': ['T', 'W', 'Th'],\n",
       " 'drinks': 'TRUE',\n",
       " 'food': 'FALSE',\n",
       " 'reviews': 5.0}"
      ]
     },
     "execution_count": 231,
     "metadata": {},
     "output_type": "execute_result"
    }
   ],
   "source": [
    "display_bar(3)"
   ]
  },
  {
   "cell_type": "code",
   "execution_count": 232,
   "metadata": {},
   "outputs": [
    {
     "data": {
      "text/plain": [
       "{'name': 'Hopdoddy',\n",
       " 'region': 'Domain',\n",
       " 'days': ['M', 'T', 'W', 'Th', 'F'],\n",
       " 'drinks': 'TRUE',\n",
       " 'food': 'TRUE',\n",
       " 'reviews': 3.5,\n",
       " 'happy_hours': [{'day': 'M',\n",
       "   'start': '17:00',\n",
       "   'end': '19:00',\n",
       "   'drinks_discount': 1,\n",
       "   'food_discount': 1,\n",
       "   'menu': './menus/hopdoddy_menu.pdf'},\n",
       "  {'day': 'T',\n",
       "   'start': '17:00',\n",
       "   'end': '19:00',\n",
       "   'drinks_discount': 1,\n",
       "   'food_discount': 1,\n",
       "   'menu': './menus/hopdoddy_menu.pdf'},\n",
       "  {'day': 'W',\n",
       "   'start': '17:00',\n",
       "   'end': '19:00',\n",
       "   'drinks_discount': 1,\n",
       "   'food_discount': 1,\n",
       "   'menu': './menus/hopdoddy_menu.pdf'},\n",
       "  {'day': 'Th',\n",
       "   'start': '17:00',\n",
       "   'end': '19:00',\n",
       "   'drinks_discount': 1,\n",
       "   'food_discount': 1,\n",
       "   'menu': './menus/hopdoddy_menu.pdf'},\n",
       "  {'day': 'F',\n",
       "   'start': '17:00',\n",
       "   'end': '19:00',\n",
       "   'drinks_discount': 1,\n",
       "   'food_discount': 1,\n",
       "   'menu': './menus/hopdoddy_menu.pdf'}]}"
      ]
     },
     "execution_count": 232,
     "metadata": {},
     "output_type": "execute_result"
    }
   ],
   "source": [
    "display_bar_hhs(1)"
   ]
  },
  {
   "cell_type": "code",
   "execution_count": 233,
   "metadata": {},
   "outputs": [
    {
     "data": {
      "text/plain": [
       "{'name': \"Cain and Able's\",\n",
       " 'region': 'West Campus',\n",
       " 'days': ['T', 'W', 'Th'],\n",
       " 'drinks': 'TRUE',\n",
       " 'food': 'FALSE',\n",
       " 'reviews': 5.0,\n",
       " 'happy_hours': [{'day': 'T',\n",
       "   'start': '12:00',\n",
       "   'end': '0:00',\n",
       "   'drinks_discount': 1,\n",
       "   'food_discount': 0,\n",
       "   'menu': './menus/ables_menu.pdf'},\n",
       "  {'day': 'W',\n",
       "   'start': '12:00',\n",
       "   'end': '0:00',\n",
       "   'drinks_discount': 1,\n",
       "   'food_discount': 0,\n",
       "   'menu': './menus/ables_menu.pdf'},\n",
       "  {'day': 'Th',\n",
       "   'start': '12:00',\n",
       "   'end': '0:00',\n",
       "   'drinks_discount': 1,\n",
       "   'food_discount': 0,\n",
       "   'menu': './menus/ables_menu.pdf'}]}"
      ]
     },
     "execution_count": 233,
     "metadata": {},
     "output_type": "execute_result"
    }
   ],
   "source": [
    "display_bar_hhs(3)"
   ]
  },
  {
   "cell_type": "code",
   "execution_count": 234,
   "metadata": {},
   "outputs": [
    {
     "name": "stdout",
     "output_type": "stream",
     "text": [
      "{\"name\": \"Cain and Able's\", \"region\": \"West Campus\", \"days\": [\"T\", \"W\", \"Th\"], \"drinks\": \"TRUE\", \"food\": \"FALSE\", \"reviews\": 5.0, \"happy_hours\": [{\"day\": \"T\", \"start\": \"12:00\", \"end\": \"0:00\", \"drinks_discount\": 1, \"food_discount\": 0, \"menu\": \"./menus/ables_menu.pdf\"}, {\"day\": \"W\", \"start\": \"12:00\", \"end\": \"0:00\", \"drinks_discount\": 1, \"food_discount\": 0, \"menu\": \"./menus/ables_menu.pdf\"}, {\"day\": \"Th\", \"start\": \"12:00\", \"end\": \"0:00\", \"drinks_discount\": 1, \"food_discount\": 0, \"menu\": \"./menus/ables_menu.pdf\"}]}\n"
     ]
    }
   ],
   "source": [
    "json_object = json.dumps(display_bar_hhs(3))\n",
    "print (json_object)"
   ]
  },
  {
   "cell_type": "markdown",
   "metadata": {},
   "source": [
    "## Edit"
   ]
  },
  {
   "cell_type": "code",
   "execution_count": 236,
   "metadata": {},
   "outputs": [
    {
     "data": {
      "text/plain": [
       "[(1, 'Hopdoddy Manager', 0),\n",
       " (2, \"Able's Manager\", 0),\n",
       " (3, 'Hopdoddy Manager 1', 0),\n",
       " (4, 'The Local Manager', 0),\n",
       " (5, 'Student', 0)]"
      ]
     },
     "execution_count": 236,
     "metadata": {},
     "output_type": "execute_result"
    }
   ],
   "source": [
    "edit_user(3, \"Hopdoddy Manager 1\")\n",
    "cursor.execute('''SELECT * FROM users''')\n",
    "cursor.fetchall()"
   ]
  },
  {
   "cell_type": "code",
   "execution_count": 237,
   "metadata": {},
   "outputs": [
    {
     "data": {
      "text/plain": [
       "[(1, 'Domain (ATX)'), (2, '6th Street'), (3, 'West Campus'), (4, 'Rainy St')]"
      ]
     },
     "execution_count": 237,
     "metadata": {},
     "output_type": "execute_result"
    }
   ],
   "source": [
    "edit_region(1,'Domain (ATX)')\n",
    "cursor.execute('''SELECT * FROM regions''')\n",
    "cursor.fetchall()"
   ]
  },
  {
   "cell_type": "code",
   "execution_count": 238,
   "metadata": {},
   "outputs": [
    {
     "data": {
      "text/plain": [
       "[(1, 'Pool Table', 'Play pool/billiards'),\n",
       " (2, 'Restaurant', 'The bar has a restaurant'),\n",
       " (3, 'Pool Table', 'This bar has pool tables to play games')]"
      ]
     },
     "execution_count": 238,
     "metadata": {},
     "output_type": "execute_result"
    }
   ],
   "source": [
    "edit_feature(1,'Pool Table',\"Play pool/billiards\")\n",
    "cursor.execute('''SELECT * FROM features''')\n",
    "cursor.fetchall()"
   ]
  },
  {
   "cell_type": "code",
   "execution_count": 239,
   "metadata": {},
   "outputs": [],
   "source": [
    "edit_bar(3, \"Cain and Able's\", 3, 3, \"Cain's Address\", \"1231231234\")"
   ]
  },
  {
   "cell_type": "code",
   "execution_count": 240,
   "metadata": {},
   "outputs": [
    {
     "data": {
      "text/plain": [
       "[(1, 'Hopdoddy', 1, 1, 'My Address', '1234567890', 1),\n",
       " (2, 'Rio Rooftop', 2, 2, 'My Address', '1234567890', 0),\n",
       " (3, \"Cain and Able's\", 3, 3, \"Cain's Address\", '1231231234', 1),\n",
       " (4, 'Pluckers', 3, 4, 'My Address', '1234567890', 1),\n",
       " (5, 'The Local', 3, 5, 'My Address', '1234567890', 1)]"
      ]
     },
     "execution_count": 240,
     "metadata": {},
     "output_type": "execute_result"
    }
   ],
   "source": [
    "approve_bar(3)\n",
    "cursor.execute('select * from bars')\n",
    "cursor.fetchall()"
   ]
  },
  {
   "cell_type": "code",
   "execution_count": 241,
   "metadata": {},
   "outputs": [],
   "source": [
    "edit_happy_hour(1, 'M', '17:00', \"19:30\",bar_id=1, drinks=1, food=1, menu_pdf='./menus/hopdoddy_menu.pdf')"
   ]
  },
  {
   "cell_type": "code",
   "execution_count": 242,
   "metadata": {},
   "outputs": [
    {
     "data": {
      "text/plain": [
       "[(1, 'M', '17:00', '19:30', 1, 1, 1, './menus/hopdoddy_menu.pdf'),\n",
       " (2, 'T', '17:00', '19:00', 1, 1, 1, './menus/hopdoddy_menu.pdf'),\n",
       " (3, 'W', '17:00', '19:00', 1, 1, 1, './menus/hopdoddy_menu.pdf'),\n",
       " (4, 'Th', '17:00', '19:00', 1, 1, 1, './menus/hopdoddy_menu.pdf'),\n",
       " (5, 'F', '17:00', '19:00', 1, 1, 1, './menus/hopdoddy_menu.pdf'),\n",
       " (6, 'T', '18:00', '20:00', 2, 1, 0, './menus/rio_menu.pdf'),\n",
       " (7, 'Th', '18:00', '20:00', 2, 1, 0, './menus/rio_menu.pdf'),\n",
       " (8, 'T', '12:00', '0:00', 3, 1, 0, './menus/ables_menu.pdf'),\n",
       " (9, 'W', '12:00', '0:00', 3, 1, 0, './menus/ables_menu.pdf'),\n",
       " (10, 'Th', '12:00', '0:00', 3, 1, 0, './menus/ables_menu.pdf'),\n",
       " (11, 'W', '17:00', '19:00', 4, 1, 1, './menus/pluckers_menu.pdf'),\n",
       " (12, 'M', '17:00', '19:00', 5, 1, 0, './menus/local_menu.pdf'),\n",
       " (13, 'T', '17:00', '19:00', 5, 1, 0, './menus/local_menu.pdf'),\n",
       " (14, 'W', '17:00', '19:00', 5, 1, 0, './menus/local_menu.pdf'),\n",
       " (15, 'Th', '17:00', '19:00', 5, 1, 0, './menus/local_menu.pdf')]"
      ]
     },
     "execution_count": 242,
     "metadata": {},
     "output_type": "execute_result"
    }
   ],
   "source": [
    "cursor.execute('SELECT * FROM happy_hours')\n",
    "cursor.fetchall()"
   ]
  },
  {
   "cell_type": "code",
   "execution_count": 243,
   "metadata": {},
   "outputs": [],
   "source": [
    "edit_review(rid=1, bar_id=1, star_count=2)"
   ]
  },
  {
   "cell_type": "code",
   "execution_count": 244,
   "metadata": {
    "scrolled": true
   },
   "outputs": [
    {
     "data": {
      "text/plain": [
       "[(1, 5, 1, 2), (2, 5, 2, 3), (3, 5, 4, 2), (4, 5, 1, 2), (5, 5, 3, 5)]"
      ]
     },
     "execution_count": 244,
     "metadata": {},
     "output_type": "execute_result"
    }
   ],
   "source": [
    "cursor.execute('SELECT * FROM reviews')\n",
    "cursor.fetchall()"
   ]
  },
  {
   "cell_type": "markdown",
   "metadata": {},
   "source": [
    "## Delete"
   ]
  },
  {
   "cell_type": "code",
   "execution_count": 102,
   "metadata": {},
   "outputs": [
    {
     "data": {
      "text/plain": [
       "[(2, \"Able's Manager\", 0),\n",
       " (3, 'Hopdoddy Manager 1', 0),\n",
       " (4, 'The Local Manager', 0),\n",
       " (5, 'Student', 0)]"
      ]
     },
     "execution_count": 102,
     "metadata": {},
     "output_type": "execute_result"
    }
   ],
   "source": [
    "delete_user(1)\n",
    "cursor.execute('''SELECT * FROM users''')\n",
    "cursor.fetchall()"
   ]
  },
  {
   "cell_type": "code",
   "execution_count": 103,
   "metadata": {},
   "outputs": [
    {
     "data": {
      "text/plain": [
       "[(1, 'Domain (ATX)'), (3, 'West Campus'), (4, 'Rainy St')]"
      ]
     },
     "execution_count": 103,
     "metadata": {},
     "output_type": "execute_result"
    }
   ],
   "source": [
    "delete_region(2)\n",
    "cursor.execute('''SELECT * FROM regions''')\n",
    "cursor.fetchall()"
   ]
  },
  {
   "cell_type": "code",
   "execution_count": 104,
   "metadata": {},
   "outputs": [
    {
     "data": {
      "text/plain": [
       "[(2, 'Restaurant', 'The bar has a restaurant'),\n",
       " (3, 'Pool Table', 'This bar has pool tables to play games')]"
      ]
     },
     "execution_count": 104,
     "metadata": {},
     "output_type": "execute_result"
    }
   ],
   "source": [
    "delete_feature(1)\n",
    "cursor.execute('''SELECT * FROM features''')\n",
    "cursor.fetchall()"
   ]
  },
  {
   "cell_type": "code",
   "execution_count": 107,
   "metadata": {},
   "outputs": [
    {
     "data": {
      "text/plain": [
       "[(1, 1, 2), (3, 3, 3), (4, 4, 2), (5, 5, 3)]"
      ]
     },
     "execution_count": 107,
     "metadata": {},
     "output_type": "execute_result"
    }
   ],
   "source": [
    "delete_bar_feature(2, 1)\n",
    "cursor.execute(\"Select * FROM bar_features\")\n",
    "cursor.fetchall()"
   ]
  },
  {
   "cell_type": "code",
   "execution_count": 108,
   "metadata": {},
   "outputs": [
    {
     "data": {
      "text/plain": [
       "[(2, 'Rio Rooftop', 2, 2, 'My Address', '1234567890', 0),\n",
       " (3, \"Cain and Able's\", 3, 3, \"Cain's Address\", '1231231234', 1),\n",
       " (4, 'Pluckers', 4, 3, 'My Address', '1234567890', 1),\n",
       " (5, 'The Local', 5, 3, 'My Address', '1234567890', 1)]"
      ]
     },
     "execution_count": 108,
     "metadata": {},
     "output_type": "execute_result"
    }
   ],
   "source": [
    "delete_bar(1)\n",
    "cursor.execute(\"Select * FROM bars\")\n",
    "cursor.fetchall()"
   ]
  },
  {
   "cell_type": "code",
   "execution_count": 110,
   "metadata": {},
   "outputs": [
    {
     "data": {
      "text/plain": [
       "[(6, 'T', '18:00', '20:00', 2, 1, 0, './menus/rio_menu.pdf'),\n",
       " (8, 'T', '12:00', '0:00', 3, 1, 0, './menus/ables_menu.pdf'),\n",
       " (9, 'W', '12:00', '0:00', 3, 1, 0, './menus/ables_menu.pdf'),\n",
       " (10, 'Th', '12:00', '0:00', 3, 1, 0, './menus/ables_menu.pdf'),\n",
       " (11, 'W', '17:00', '19:00', 4, 1, 1, './menus/pluckers_menu.pdf'),\n",
       " (12, 'M', '17:00', '19:00', 5, 1, 0, './menus/local_menu.pdf'),\n",
       " (13, 'T', '17:00', '19:00', 5, 1, 0, './menus/local_menu.pdf'),\n",
       " (14, 'W', '17:00', '19:00', 5, 1, 0, './menus/local_menu.pdf'),\n",
       " (15, 'Th', '17:00', '19:00', 5, 1, 0, './menus/local_menu.pdf')]"
      ]
     },
     "execution_count": 110,
     "metadata": {},
     "output_type": "execute_result"
    }
   ],
   "source": [
    "delete_happy_hour(7)\n",
    "cursor.execute(\"Select * FROM happy_hours\")\n",
    "cursor.fetchall()"
   ]
  },
  {
   "cell_type": "code",
   "execution_count": 112,
   "metadata": {},
   "outputs": [
    {
     "data": {
      "text/plain": [
       "[(2, 5, 2, 3), (4, 5, 1, 2), (5, 5, 3, 5)]"
      ]
     },
     "execution_count": 112,
     "metadata": {},
     "output_type": "execute_result"
    }
   ],
   "source": [
    "delete_review(3)\n",
    "cursor.execute(\"Select * FROM reviews\")\n",
    "cursor.fetchall()"
   ]
  },
  {
   "cell_type": "markdown",
   "metadata": {},
   "source": [
    "# Close the DB"
   ]
  },
  {
   "cell_type": "code",
   "execution_count": 6,
   "metadata": {},
   "outputs": [],
   "source": [
    "db.close()"
   ]
  }
 ],
 "metadata": {
  "kernelspec": {
   "display_name": "Python 3",
   "language": "python",
   "name": "python3"
  },
  "language_info": {
   "codemirror_mode": {
    "name": "ipython",
    "version": 3
   },
   "file_extension": ".py",
   "mimetype": "text/x-python",
   "name": "python",
   "nbconvert_exporter": "python",
   "pygments_lexer": "ipython3",
   "version": "3.7.3"
  }
 },
 "nbformat": 4,
 "nbformat_minor": 2
}
