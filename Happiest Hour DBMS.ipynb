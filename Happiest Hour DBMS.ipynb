{
 "cells": [
  {
   "cell_type": "markdown",
   "metadata": {},
   "source": [
    "# The Happiest Hour\n",
    "- Madi Gwynn\n",
    "- Brian Smith-Eitches\n",
    "\n",
    "## Set Up"
   ]
  },
  {
   "cell_type": "code",
   "execution_count": 2,
   "metadata": {},
   "outputs": [],
   "source": [
    "import sqlite3"
   ]
  },
  {
   "cell_type": "code",
   "execution_count": 13,
   "metadata": {},
   "outputs": [],
   "source": [
    "# Connect/Create(if does not exist) to a database formatted as a sqlite database \n",
    "db=sqlite3.connect(\"./happy_hour.db\")"
   ]
  },
  {
   "cell_type": "code",
   "execution_count": 14,
   "metadata": {},
   "outputs": [],
   "source": [
    "cursor = db.cursor()"
   ]
  },
  {
   "cell_type": "code",
   "execution_count": 178,
   "metadata": {},
   "outputs": [],
   "source": [
    "indices_dict = {\n",
    "    'regions':{\n",
    "        'rid':0,\n",
    "        'title':1,\n",
    "        'max_idx':1\n",
    "    },\n",
    "    'bars':{\n",
    "        'bid':0,\n",
    "        'name':1,\n",
    "        'region_id':2,\n",
    "        'manager_id':3,\n",
    "        'address':4,\n",
    "        'phone_number':5,\n",
    "        'approved':6,\n",
    "        'max_idx':6\n",
    "    },\n",
    "    'happy_hours':{\n",
    "        'hhid':0,\n",
    "        'day_of_week':1,\n",
    "        'start_time':2, \n",
    "        'end_time':3,\n",
    "        'bar_id':4,\n",
    "        'drinks':5,\n",
    "        'food':6,\n",
    "        'menu_pdf':7,\n",
    "        'max_idx':7\n",
    "    }\n",
    "}"
   ]
  },
  {
   "cell_type": "markdown",
   "metadata": {},
   "source": [
    "## Create Database Tables"
   ]
  },
  {
   "cell_type": "code",
   "execution_count": 5,
   "metadata": {},
   "outputs": [
    {
     "ename": "OperationalError",
     "evalue": "table regions already exists",
     "output_type": "error",
     "traceback": [
      "\u001b[1;31m---------------------------------------------------------------------------\u001b[0m",
      "\u001b[1;31mOperationalError\u001b[0m                          Traceback (most recent call last)",
      "\u001b[1;32m<ipython-input-5-515b87f4572a>\u001b[0m in \u001b[0;36m<module>\u001b[1;34m\u001b[0m\n\u001b[0;32m      3\u001b[0m         \u001b[0mrid\u001b[0m \u001b[0mINTEGER\u001b[0m \u001b[0mPRIMARY\u001b[0m \u001b[0mKEY\u001b[0m\u001b[1;33m,\u001b[0m\u001b[1;33m\u001b[0m\u001b[1;33m\u001b[0m\u001b[0m\n\u001b[0;32m      4\u001b[0m         title TEXT)\n\u001b[1;32m----> 5\u001b[1;33m ''')\n\u001b[0m\u001b[0;32m      6\u001b[0m \u001b[0mdb\u001b[0m\u001b[1;33m.\u001b[0m\u001b[0mcommit\u001b[0m\u001b[1;33m(\u001b[0m\u001b[1;33m)\u001b[0m\u001b[1;33m\u001b[0m\u001b[1;33m\u001b[0m\u001b[0m\n",
      "\u001b[1;31mOperationalError\u001b[0m: table regions already exists"
     ]
    }
   ],
   "source": [
    "cursor.execute('''\n",
    "    CREATE TABLE regions(\n",
    "        rid INTEGER PRIMARY KEY,\n",
    "        title TEXT)\n",
    "''')\n",
    "db.commit()"
   ]
  },
  {
   "cell_type": "code",
   "execution_count": 6,
   "metadata": {},
   "outputs": [
    {
     "ename": "OperationalError",
     "evalue": "table users already exists",
     "output_type": "error",
     "traceback": [
      "\u001b[1;31m---------------------------------------------------------------------------\u001b[0m",
      "\u001b[1;31mOperationalError\u001b[0m                          Traceback (most recent call last)",
      "\u001b[1;32m<ipython-input-6-570f2504a01a>\u001b[0m in \u001b[0;36m<module>\u001b[1;34m\u001b[0m\n\u001b[0;32m      4\u001b[0m         \u001b[0mname\u001b[0m \u001b[0mTEXT\u001b[0m\u001b[1;33m,\u001b[0m\u001b[1;33m\u001b[0m\u001b[1;33m\u001b[0m\u001b[0m\n\u001b[0;32m      5\u001b[0m         admin BOOLEAN)\n\u001b[1;32m----> 6\u001b[1;33m ''')\n\u001b[0m\u001b[0;32m      7\u001b[0m \u001b[0mdb\u001b[0m\u001b[1;33m.\u001b[0m\u001b[0mcommit\u001b[0m\u001b[1;33m(\u001b[0m\u001b[1;33m)\u001b[0m\u001b[1;33m\u001b[0m\u001b[1;33m\u001b[0m\u001b[0m\n",
      "\u001b[1;31mOperationalError\u001b[0m: table users already exists"
     ]
    }
   ],
   "source": [
    "cursor.execute('''\n",
    "    CREATE TABLE users(\n",
    "        uid INTEGER PRIMARY KEY,\n",
    "        name TEXT,\n",
    "        admin BOOLEAN)\n",
    "''')\n",
    "db.commit()"
   ]
  },
  {
   "cell_type": "code",
   "execution_count": 49,
   "metadata": {},
   "outputs": [],
   "source": [
    "cursor.execute('''\n",
    "    CREATE TABLE bars(\n",
    "        bid INTEGER PRIMARY KEY,\n",
    "        name TEXT,\n",
    "        region_id INTEGER,\n",
    "        manager_id INTERGER,\n",
    "        address TEXT,\n",
    "        phone_number TEXT,\n",
    "        approved BOOLEAN,\n",
    "        FOREIGN KEY(region_id) REFERENCES regions(rid),\n",
    "        FOREIGN KEY(manager_id) REFERENCES users(uid)\n",
    "        )\n",
    "''')\n",
    "db.commit()"
   ]
  },
  {
   "cell_type": "code",
   "execution_count": 8,
   "metadata": {},
   "outputs": [
    {
     "ename": "OperationalError",
     "evalue": "table bar_features already exists",
     "output_type": "error",
     "traceback": [
      "\u001b[1;31m---------------------------------------------------------------------------\u001b[0m",
      "\u001b[1;31mOperationalError\u001b[0m                          Traceback (most recent call last)",
      "\u001b[1;32m<ipython-input-8-54e9539078b7>\u001b[0m in \u001b[0;36m<module>\u001b[1;34m\u001b[0m\n\u001b[0;32m      6\u001b[0m         \u001b[0mFOREIGN\u001b[0m \u001b[0mKEY\u001b[0m\u001b[1;33m(\u001b[0m\u001b[0mbar_id\u001b[0m\u001b[1;33m)\u001b[0m \u001b[0mREFERENCES\u001b[0m \u001b[0mbars\u001b[0m\u001b[1;33m(\u001b[0m\u001b[0mbid\u001b[0m\u001b[1;33m)\u001b[0m\u001b[1;33m,\u001b[0m\u001b[1;33m\u001b[0m\u001b[1;33m\u001b[0m\u001b[0m\n\u001b[0;32m      7\u001b[0m         FOREIGN KEY(feature_id) REFERENCES features(fid))\n\u001b[1;32m----> 8\u001b[1;33m ''')\n\u001b[0m\u001b[0;32m      9\u001b[0m \u001b[0mdb\u001b[0m\u001b[1;33m.\u001b[0m\u001b[0mcommit\u001b[0m\u001b[1;33m(\u001b[0m\u001b[1;33m)\u001b[0m\u001b[1;33m\u001b[0m\u001b[1;33m\u001b[0m\u001b[0m\n",
      "\u001b[1;31mOperationalError\u001b[0m: table bar_features already exists"
     ]
    }
   ],
   "source": [
    "cursor.execute('''\n",
    "    CREATE TABLE bar_features(\n",
    "        bfid INTEGER PRIMARY KEY,\n",
    "        bar_id INTEGER,\n",
    "        feature_id INTEGER,\n",
    "        FOREIGN KEY(bar_id) REFERENCES bars(bid),\n",
    "        FOREIGN KEY(feature_id) REFERENCES features(fid))\n",
    "''')\n",
    "db.commit()"
   ]
  },
  {
   "cell_type": "code",
   "execution_count": 9,
   "metadata": {},
   "outputs": [
    {
     "ename": "OperationalError",
     "evalue": "table features already exists",
     "output_type": "error",
     "traceback": [
      "\u001b[1;31m---------------------------------------------------------------------------\u001b[0m",
      "\u001b[1;31mOperationalError\u001b[0m                          Traceback (most recent call last)",
      "\u001b[1;32m<ipython-input-9-111336c94d31>\u001b[0m in \u001b[0;36m<module>\u001b[1;34m\u001b[0m\n\u001b[0;32m      4\u001b[0m         \u001b[0mfeature\u001b[0m \u001b[0mTEXT\u001b[0m\u001b[1;33m,\u001b[0m\u001b[1;33m\u001b[0m\u001b[1;33m\u001b[0m\u001b[0m\n\u001b[0;32m      5\u001b[0m         description TEXT)\n\u001b[1;32m----> 6\u001b[1;33m ''')\n\u001b[0m\u001b[0;32m      7\u001b[0m \u001b[0mdb\u001b[0m\u001b[1;33m.\u001b[0m\u001b[0mcommit\u001b[0m\u001b[1;33m(\u001b[0m\u001b[1;33m)\u001b[0m\u001b[1;33m\u001b[0m\u001b[1;33m\u001b[0m\u001b[0m\n",
      "\u001b[1;31mOperationalError\u001b[0m: table features already exists"
     ]
    }
   ],
   "source": [
    "cursor.execute('''\n",
    "    CREATE TABLE features(\n",
    "        fid INTEGER PRIMARY KEY,\n",
    "        feature TEXT,\n",
    "        description TEXT)\n",
    "''')\n",
    "db.commit()"
   ]
  },
  {
   "cell_type": "code",
   "execution_count": 50,
   "metadata": {},
   "outputs": [
    {
     "ename": "OperationalError",
     "evalue": "table happy_hours already exists",
     "output_type": "error",
     "traceback": [
      "\u001b[1;31m---------------------------------------------------------------------------\u001b[0m",
      "\u001b[1;31mOperationalError\u001b[0m                          Traceback (most recent call last)",
      "\u001b[1;32m<ipython-input-50-b69aa5603daf>\u001b[0m in \u001b[0;36m<module>\u001b[1;34m\u001b[0m\n\u001b[0;32m     10\u001b[0m         \u001b[0mmenu_pdf\u001b[0m \u001b[0mTEXT\u001b[0m\u001b[1;33m,\u001b[0m\u001b[1;33m\u001b[0m\u001b[1;33m\u001b[0m\u001b[0m\n\u001b[0;32m     11\u001b[0m         FOREIGN KEY(bar_id) REFERENCES bars(bid))\n\u001b[1;32m---> 12\u001b[1;33m ''')\n\u001b[0m\u001b[0;32m     13\u001b[0m \u001b[0mdb\u001b[0m\u001b[1;33m.\u001b[0m\u001b[0mcommit\u001b[0m\u001b[1;33m(\u001b[0m\u001b[1;33m)\u001b[0m\u001b[1;33m\u001b[0m\u001b[1;33m\u001b[0m\u001b[0m\n",
      "\u001b[1;31mOperationalError\u001b[0m: table happy_hours already exists"
     ]
    }
   ],
   "source": [
    "cursor.execute('''\n",
    "    CREATE TABLE happy_hours(\n",
    "        hhid INTEGER PRIMARY KEY, \n",
    "        day_of_week VARCHAR(2), \n",
    "        start_time TIME, \n",
    "        end_time TIME,\n",
    "        bar_id INTEGER,\n",
    "        drinks BOOLEAN,\n",
    "        food BOOLEAN,\n",
    "        menu_pdf TEXT,\n",
    "        FOREIGN KEY(bar_id) REFERENCES bars(bid))\n",
    "''')\n",
    "db.commit()"
   ]
  },
  {
   "cell_type": "code",
   "execution_count": 11,
   "metadata": {},
   "outputs": [
    {
     "ename": "OperationalError",
     "evalue": "table reviews already exists",
     "output_type": "error",
     "traceback": [
      "\u001b[1;31m---------------------------------------------------------------------------\u001b[0m",
      "\u001b[1;31mOperationalError\u001b[0m                          Traceback (most recent call last)",
      "\u001b[1;32m<ipython-input-11-4c25c0f73805>\u001b[0m in \u001b[0;36m<module>\u001b[1;34m\u001b[0m\n\u001b[0;32m      7\u001b[0m         \u001b[0mFOREIGN\u001b[0m \u001b[0mKEY\u001b[0m\u001b[1;33m(\u001b[0m\u001b[0muser_id\u001b[0m\u001b[1;33m)\u001b[0m \u001b[0mREFERENCES\u001b[0m \u001b[0musers\u001b[0m\u001b[1;33m(\u001b[0m\u001b[0muid\u001b[0m\u001b[1;33m)\u001b[0m\u001b[1;33m,\u001b[0m\u001b[1;33m\u001b[0m\u001b[1;33m\u001b[0m\u001b[0m\n\u001b[0;32m      8\u001b[0m         FOREIGN KEY(bar_id) REFERENCES bars(bid))\n\u001b[1;32m----> 9\u001b[1;33m ''')\n\u001b[0m\u001b[0;32m     10\u001b[0m \u001b[0mdb\u001b[0m\u001b[1;33m.\u001b[0m\u001b[0mcommit\u001b[0m\u001b[1;33m(\u001b[0m\u001b[1;33m)\u001b[0m\u001b[1;33m\u001b[0m\u001b[1;33m\u001b[0m\u001b[0m\n",
      "\u001b[1;31mOperationalError\u001b[0m: table reviews already exists"
     ]
    }
   ],
   "source": [
    "cursor.execute('''\n",
    "    CREATE TABLE reviews(\n",
    "        rid INTEGER PRIMARY KEY, \n",
    "        user_id INTEGER,\n",
    "        bar_id INTEGER,\n",
    "        star_count INTEGER,\n",
    "        FOREIGN KEY(user_id) REFERENCES users(uid), \n",
    "        FOREIGN KEY(bar_id) REFERENCES bars(bid))\n",
    "''')\n",
    "db.commit()"
   ]
  },
  {
   "cell_type": "markdown",
   "metadata": {},
   "source": [
    "# Functions for implementation"
   ]
  },
  {
   "cell_type": "markdown",
   "metadata": {},
   "source": [
    "# Create \n",
    "- User (self) BRIAN\n",
    "- Regions (admin) BRIAN\n",
    "- Bars (managers, default to *unvetted*) MADI\n",
    "- Happy Hours (managers) MADI\n",
    "- Features (admin) BRIAN\n",
    "- Reviews (users) MADI \n",
    "- BarFeatures (managers) BRIAN"
   ]
  },
  {
   "cell_type": "code",
   "execution_count": 15,
   "metadata": {},
   "outputs": [],
   "source": [
    "def create_user(name, admin=False):\n",
    "    cursor.execute('''INSERT INTO users(name, admin)\n",
    "                  VALUES(?,?)''', (name, admin))\n",
    "    db.commit()"
   ]
  },
  {
   "cell_type": "code",
   "execution_count": 18,
   "metadata": {},
   "outputs": [],
   "source": [
    "def create_region(title):\n",
    "    cursor.execute('''INSERT INTO regions(title) VALUES(:title)''',\n",
    "                   {'title':title})\n",
    "    \n",
    "    db.commit()\n",
    "    "
   ]
  },
  {
   "cell_type": "code",
   "execution_count": 21,
   "metadata": {},
   "outputs": [],
   "source": [
    "def create_feature(feature, description):\n",
    "    cursor.execute('''INSERT INTO features(feature, description) \n",
    "                    VALUES(?,?)''', (feature, description))\n",
    "    db.commit()\n",
    "    \n",
    "    "
   ]
  },
  {
   "cell_type": "code",
   "execution_count": 82,
   "metadata": {},
   "outputs": [],
   "source": [
    "def create_bar_feature(bar_id, feature_id):\n",
    "    cursor.execute('''INSERT INTO bar_features(bar_id, feature_id)\n",
    "                    VALUEs(?,?)''', (bar_id, feature_id))\n",
    "    db.commit()"
   ]
  },
  {
   "cell_type": "code",
   "execution_count": 35,
   "metadata": {},
   "outputs": [],
   "source": [
    "#create_bar function \n",
    "def create_bar(name, region_id, manager_id, address, phone_number, approved=False):\n",
    "    cursor.execute('''INSERT INTO bars(name, region_id, manager_id, address, phone_number, approved) \n",
    "                    VALUES(?,?,?,?,?,?)''', (name, region_id, manager_id, address, phone_number, approved))\n",
    "    db.commit()\n",
    "    "
   ]
  },
  {
   "cell_type": "code",
   "execution_count": 51,
   "metadata": {},
   "outputs": [],
   "source": [
    "#create_happy_hours function \n",
    "def create_happy_hour(day_of_week, start_time, end_time, bar_id, drinks, food, menu_pdf):\n",
    "    cursor.execute('''INSERT INTO happy_hours(day_of_week, start_time, end_time, bar_id, drinks, food, menu_pdf) \n",
    "                    VALUES(?,?,?,?,?,?,?)''', (day_of_week, start_time, end_time, bar_id, drinks, food, menu_pdf))\n",
    "    db.commit()\n",
    "    "
   ]
  },
  {
   "cell_type": "code",
   "execution_count": 54,
   "metadata": {},
   "outputs": [],
   "source": [
    "def create_review(user_id, bar_id, star_count):\n",
    "    cursor.execute('''INSERT INTO reviews(user_id, bar_id, star_count) \n",
    "                    VALUES(?,?,?)''', (user_id, bar_id, star_count))\n",
    "    db.commit()    "
   ]
  },
  {
   "cell_type": "markdown",
   "metadata": {},
   "source": [
    "# Display (READ)\n",
    "- Only show bars & its HH's that have been approved BRIAN. Done.\n",
    "- Users Filter by happy hour attributes MADI TODO.\n",
    "    - Drinks discounted?\n",
    "    - Food discounted?\n",
    "    - Time in range?\n",
    "- Users Filter by bar attributes BRIAN Done.\n",
    "    - Review ratings\n",
    "    - Bar_features\n",
    "    - Regions\n",
    "- For **High Level = BAR** : Link up (JSON) bar name, happy hour days, drinks/food disc?, region, reviews MADI TODO\n",
    "- For **LOW LEVEL = HH**: include each happy hour separated by happy hour entry, pdf, bar info from above, phone, address BRIAN Done."
   ]
  },
  {
   "cell_type": "code",
   "execution_count": 154,
   "metadata": {},
   "outputs": [],
   "source": [
    "#returns approved bars\n",
    "def all_approved_bars():\n",
    "    cursor.execute('''SELECT * FROM bars \n",
    "                        WHERE approved = TRUE''')\n",
    "    approved_bars = cursor.fetchall()\n",
    "    return set(approved_bars)"
   ]
  },
  {
   "cell_type": "code",
   "execution_count": 164,
   "metadata": {},
   "outputs": [],
   "source": [
    "def all_approved_hhs():\n",
    "    cursor.execute('''SELECT * FROM happy_hours JOIN bars on bar_id = bid WHERE approved = True''')\n",
    "    approved_hhs = cursor.fetchall()\n",
    "    return set(approved_hhs)"
   ]
  },
  {
   "cell_type": "code",
   "execution_count": 165,
   "metadata": {},
   "outputs": [],
   "source": [
    "def bars_in_regions(region_ids = None):\n",
    "    if not region_ids:\n",
    "        return all_approved_bars()\n",
    "    \n",
    "    bars = []\n",
    "    \n",
    "    for region_id in region_ids:\n",
    "        cursor.execute('''SELECT * FROM bars WHERE region_id = (:region_id) AND approved = True''',\n",
    "                  {'region_id':region_id})\n",
    "        region_bars = cursor.fetchall()\n",
    "        bars = bars + region_bars\n",
    "        \n",
    "    return set(bars)"
   ]
  },
  {
   "cell_type": "code",
   "execution_count": 166,
   "metadata": {},
   "outputs": [],
   "source": [
    "def bars_with_features(feature_ids = None):\n",
    "    if not feature_ids:\n",
    "        return all_approved_bars()\n",
    "    bars = []\n",
    "    for feature in feature_ids:\n",
    "        cursor.execute('''SELECT * FROM bars JOIN bar_features on bid = bar_id WHERE\n",
    "                        feature_id = (:feature_id) AND approved = True''',\n",
    "                      {'feature_id':feature})\n",
    "        bars_joined_with_feature = cursor.fetchall()\n",
    "        bars_with_feature = [x[:indices_dict['bars']['max_idx']+1] for x in bars_joined_with_feature]\n",
    "        bars = bars + bars_with_feature\n",
    "    return set(bars)"
   ]
  },
  {
   "cell_type": "code",
   "execution_count": 179,
   "metadata": {},
   "outputs": [],
   "source": [
    "def bars_with_rating(min_rating = 0):\n",
    "    if not min_rating:\n",
    "        return all_approved_bars()\n",
    "    cursor.execute('''SELECT * FROM bars JOIN reviews on bid = bar_id WHERE approved = True\n",
    "                    GROUP BY bid HAVING AVG(star_count) >= (:min_rating)''',\n",
    "                    {'min_rating':min_rating})\n",
    "    return set(x[:indices_dict['bars']['max_idx']+1] for x in cursor.fetchall())"
   ]
  },
  {
   "cell_type": "code",
   "execution_count": 168,
   "metadata": {},
   "outputs": [],
   "source": [
    "#REGION IDS AND FEATURE IDS IS ALWAYS A LIST WHEN SOMETHING IS CHOSEN\n",
    "def filter_bars(region_ids = None, feature_ids = None, min_rating = 0):\n",
    "    return bars_in_regions(region_ids) & bars_with_features(feature_ids) & bars_with_rating(min_rating)"
   ]
  },
  {
   "cell_type": "code",
   "execution_count": 190,
   "metadata": {},
   "outputs": [],
   "source": [
    "def all_hhs_at_bar(bar_id):\n",
    "    cursor.execute('''SELECT * FROM happy_hours JOIN bars on bar_id = bid WHERE bar_id = (:bar_id)''', {'bar_id':bar_id})\n",
    "    hh_list = []\n",
    "    bar = {}\n",
    "    for hh_join_bar in cursor.fetchall():\n",
    "        hh_dict = {}\n",
    "        for column in indices_dict['happy_hours']:\n",
    "            if column == 'max_idx':\n",
    "                continue\n",
    "            hh_dict[column]=hh_join_bar[indices_dict['happy_hours'][column]]\n",
    "        hh_list.append(hh_dict)\n",
    "        if not len(bar.keys()):\n",
    "            offset = indices_dict['happy_hours']['max_idx']+1\n",
    "            for column in indices_dict['bars']:\n",
    "                if column == 'max_idx':\n",
    "                    continue\n",
    "                bar[column]=hh_join_bar[indices_dict['bars'][column]+offset]\n",
    "    \n",
    "    return {'bar':bar,'happy_hours':hh_list}"
   ]
  },
  {
   "cell_type": "code",
   "execution_count": null,
   "metadata": {},
   "outputs": [],
   "source": [
    "#output of this function is a dictionary - can later be converted to a json object \n",
    "def display_high(bar_id):\n",
    "    #create empty dictionary\n",
    "    bar = {}\n",
    "    \n",
    "    #add bar name and region to dictionary\n",
    "    cursor.execute('''SELECT name, region FROM bars \n",
    "                        WHERE bid=(:bid) ''', {'bid':bar_id})\n",
    "    bar_info = cursor.fetchone()\n",
    "    bar[name] = bar_info[0]\n",
    "    bar[region] = bar_info[1]\n",
    "    \n",
    "    #add happy hour days to dictionary \n",
    "    cursor.execute('''SELECT day_of_week FROM happy_hours\n",
    "                        WHERE bar_id=(:bar_id)''', {'bar_id':bar_id})\n",
    "    day_of_weeks = cursor.fetchall()\n",
    "    hh_days = []\n",
    "    for day in day_of_weeks\n",
    "        hh_days.append(day)\n",
    "    bar[days] = hh_days\n",
    "    \n",
    "    #add if drinks and food are discounted \n",
    "    cursor.execute('''SELECT drinks FROM happy_hours \n",
    "                        WHERE bar_id=(:bar_id)''', {'bar_id':bar_id})\n",
    "    drinks = cursor.fetchall()\n",
    "    drinks_check = FALSE\n",
    "    for disc in drinks\n",
    "        if disc[0] == 'TRUE' #is this a boolean or a string?\n",
    "            drinks_check = TRUE\n",
    "            break\n",
    "    bar[drinks] = drinks_check\n",
    "    \n",
    "    cursor.execute('''SELECT food FROM happy_hours \n",
    "                        WHERE bar_id=(:bar_id)''', {'bar_id':bar_id})\n",
    "    food = cursor.fetchall()\n",
    "    food_check = FALSE\n",
    "    for disc in food\n",
    "        if disc[0] == 'TRUE' #is this a boolean or a string?\n",
    "            food_check = TRUE\n",
    "            break\n",
    "    \n",
    "    bar[food] = food_check\n",
    "    \n",
    "    #add reviews score to dictionary \n",
    "    cursor.execute('''SELECT star_count FROM reviews \n",
    "                        WHERE bar_id=(:bar_id)''', {'bar_id':bar_id})\n",
    "    star_counts = cursor.fetchall()\n",
    "    star_sum = 0\n",
    "    for review in star_counts\n",
    "        star_sum += review[0]\n",
    "    total_reviews = cursor.getCount()\n",
    "    \n",
    "    bar[reviews] = star_sum / total_reviews\n",
    "    \n",
    "    \n",
    "    #print and return dictionary \n",
    "    print (bar)\n",
    "    #return bar\n",
    "        "
   ]
  },
  {
   "cell_type": "markdown",
   "metadata": {},
   "source": [
    "# Edit (UPDATE) *Identical to Create*\n",
    "- User (self) BRIAN\n",
    "- Regions (admin) BRIAN\n",
    "- Bars (managers, admin) MADI\n",
    "    - Also admin approval\n",
    "- Happy Hours (managers) MADI\n",
    "- Features (admin) BRIAN\n",
    "- Reviews (users) MADI\n",
    "- BarFeatures (managers) BRIAN **Achieved via add feature and delete feature**"
   ]
  },
  {
   "cell_type": "code",
   "execution_count": 34,
   "metadata": {},
   "outputs": [],
   "source": [
    "def edit_user(uid, name, admin=False):\n",
    "    cursor.execute('''UPDATE users SET name=(:name), admin=(:admin)\n",
    "                  WHERE uid=(:uid)''', {'uid':uid,'name':name,'admin':admin})\n",
    "    db.commit()"
   ]
  },
  {
   "cell_type": "code",
   "execution_count": 37,
   "metadata": {},
   "outputs": [],
   "source": [
    "def edit_region(rid, title):\n",
    "    cursor.execute('''UPDATE regions SET title=(:title)\n",
    "                  WHERE rid=(:rid)''', {'rid':rid,'title':title})\n",
    "    db.commit()"
   ]
  },
  {
   "cell_type": "code",
   "execution_count": 41,
   "metadata": {},
   "outputs": [],
   "source": [
    "def edit_feature(fid, feature, description):\n",
    "    cursor.execute('''UPDATE features SET feature=(:feature), description=(:description)\n",
    "                  WHERE fid=(:fid)''', {'fid':fid,'feature':feature,'description':description})\n",
    "    db.commit()"
   ]
  },
  {
   "cell_type": "code",
   "execution_count": null,
   "metadata": {},
   "outputs": [],
   "source": [
    "def edit_bar(bid, name, region_id, manager_id, address, phone_number):\n",
    "    cursor.execute('''UPDATE bars SET name=(:name), region_id=(:region_id), manager_id=(:manager_id), address=(:address), phone_number=(:phone_number)\n",
    "                  WHERE bid=(:bid)''', {'bid':bid,'name':name,'region_id':region_id, 'manager_id':manager_id, 'address':address, 'phone_number':phone_number})\n",
    "    db.commit()"
   ]
  },
  {
   "cell_type": "code",
   "execution_count": 62,
   "metadata": {},
   "outputs": [],
   "source": [
    "def approve_bar(bid, approved=True):\n",
    "    cursor.execute('''UPDATE bars SET approved=(:approved)\n",
    "                        WHERE bid=(:bid)''', {'bid':bid,'approved':approved})\n",
    "    db.commit() "
   ]
  },
  {
   "cell_type": "code",
   "execution_count": null,
   "metadata": {},
   "outputs": [],
   "source": [
    "def edit_happy_hour(hhid, day_of_week, start_time, end_time, bar_id, drinks, food, menu_pdf):\n",
    "    cursor.execute('''UPDATE bars SET day_of_week=(:day_of_week), start_time=(:start_time), end_time=(:end_time), bar_id=(:bar_id), drinks=(:drinks), food=(:food), menu_pdf=(:menu_pdf)\n",
    "                  WHERE hhid=(:hhid)''', {'hhid':hhid,'name':name,'region_id':region_id, 'manager_id':manager_id, 'address':address, 'phone_number':phone_number})\n",
    "    db.commit()"
   ]
  },
  {
   "cell_type": "code",
   "execution_count": null,
   "metadata": {},
   "outputs": [],
   "source": [
    "def edit_review(rid, bar_id, star_count):\n",
    "    cursor.execute('''UPDATE bars SET bar_id=(:bar_id), star_count=(:star_count)\n",
    "                        WHERE rid=(:rid)''', {'rid':rid,'bar_id':bar_id, 'star_count':star_count})\n",
    "    db.commit() "
   ]
  },
  {
   "cell_type": "markdown",
   "metadata": {},
   "source": [
    "# Delete\n",
    "- User (admin) BRIAN\n",
    "- Regions (admin) BRIAN\n",
    "- Bars (managers) MADI\n",
    "    - Call delete all happy hours\n",
    "    - Call delete on all bar features\n",
    "- Happy Hours (managers) MADI\n",
    "- Features (admin) BRIAN\n",
    "    - Remove all barfeatures with that feature\n",
    "- Reviews (users) MADI\n",
    "- BarFeatures (managers) BRIAN"
   ]
  },
  {
   "cell_type": "code",
   "execution_count": 6,
   "metadata": {},
   "outputs": [],
   "source": [
    "#only admins can call this in the interface\n",
    "def delete_user(user_id):\n",
    "    cursor.execute('''DELETE FROM users WHERE\n",
    "                  uid=(:user_id)''', {'user_id':user_id})\n",
    "    db.commit()"
   ]
  },
  {
   "cell_type": "code",
   "execution_count": 20,
   "metadata": {},
   "outputs": [],
   "source": [
    "def delete_region(region_id):\n",
    "    cursor.execute('''DELETE FROM regions\n",
    "                    WHERE rid=(:rid)''', {'rid':region_id})\n",
    "    \n",
    "    db.commit()\n",
    "    "
   ]
  },
  {
   "cell_type": "code",
   "execution_count": 25,
   "metadata": {},
   "outputs": [],
   "source": [
    "def delete_feature(feature_id):\n",
    "    cursor.execute('''DELETE FROM bar_features WHERE feature_id=(:feature_id)''', {'feature_id':feature_id})\n",
    "    cursor.execute('''DELETE FROM features WHERE fid=(:feature_id)''',{'feature_id':feature_id})\n",
    "    db.commit()\n",
    "    \n",
    "    "
   ]
  },
  {
   "cell_type": "code",
   "execution_count": 54,
   "metadata": {},
   "outputs": [],
   "source": [
    "def delete_bar_feature(bar_id, feature_id):\n",
    "    cursor.execute('''DELETE FROM bar_features WHERE bar_id=(:bar_id) AND feaure_id=(:feature_id)\n",
    "                    ''', {'bar_id':bar_id, 'feature_id':feature_id})\n",
    "    db.commit()"
   ]
  },
  {
   "cell_type": "code",
   "execution_count": null,
   "metadata": {},
   "outputs": [],
   "source": [
    "def delete_bar(bar_id):\n",
    "    cursor.execute('''DELETE FROM bar_features WHERE bar_id=(:bar_id)''', {'bar_id':bar_id})\n",
    "    cursor.execute('''DELETE FROM happy_hours WHERE bar_id=(:bar_id)''', {'bar_id':bar_id})\n",
    "    cursor.execute('''DELETE FROM bars WHERE bid=(:bar_id)''', {'bar_id':bar_id})\n",
    "    db.commit()"
   ]
  },
  {
   "cell_type": "code",
   "execution_count": null,
   "metadata": {},
   "outputs": [],
   "source": [
    "def delete_happy_hour(hhid):\n",
    "    cursor.execute('''DELETE FROM happy_hours WHERE hhid=(:hhid)''', {'hhid':hhid})\n",
    "    db.commit()"
   ]
  },
  {
   "cell_type": "code",
   "execution_count": null,
   "metadata": {},
   "outputs": [],
   "source": [
    "def delete_review(rid):\n",
    "    cursor.execute('''DELETE FROM reviews WHERE rid=(:rid)''', {'rid':rid})\n",
    "    db.commit()"
   ]
  },
  {
   "cell_type": "markdown",
   "metadata": {},
   "source": [
    "# Seeding/Testing"
   ]
  },
  {
   "cell_type": "markdown",
   "metadata": {},
   "source": [
    "## Create"
   ]
  },
  {
   "cell_type": "code",
   "execution_count": 16,
   "metadata": {},
   "outputs": [],
   "source": [
    "create_user(\"Hopdoddy Manager\")"
   ]
  },
  {
   "cell_type": "code",
   "execution_count": 17,
   "metadata": {},
   "outputs": [
    {
     "data": {
      "text/plain": [
       "[(2, 'sofi', 0), (3, 'Hopdoddy Manager 1', 0), (4, 'Hopdoddy Manager', 0)]"
      ]
     },
     "execution_count": 17,
     "metadata": {},
     "output_type": "execute_result"
    }
   ],
   "source": [
    "cursor.execute('''SELECT * FROM users''')\n",
    "cursor.fetchall()"
   ]
  },
  {
   "cell_type": "code",
   "execution_count": 19,
   "metadata": {},
   "outputs": [],
   "source": [
    "create_region(\"Domain\")"
   ]
  },
  {
   "cell_type": "code",
   "execution_count": 20,
   "metadata": {},
   "outputs": [
    {
     "data": {
      "text/plain": [
       "[(1, 'Domain (ATX)'), (2, 'Domain')]"
      ]
     },
     "execution_count": 20,
     "metadata": {},
     "output_type": "execute_result"
    }
   ],
   "source": [
    "cursor.execute('''SELECT * FROM regions''')\n",
    "cursor.fetchall()"
   ]
  },
  {
   "cell_type": "code",
   "execution_count": 22,
   "metadata": {},
   "outputs": [],
   "source": [
    "create_feature(\"Pool\",\"This Bar has a swim up pool\")"
   ]
  },
  {
   "cell_type": "code",
   "execution_count": 23,
   "metadata": {},
   "outputs": [
    {
     "data": {
      "text/plain": [
       "[(1, 'Pool Table', 'Play pool/billiards'),\n",
       " (2, 'Pool', 'This Bar has a swim up pool')]"
      ]
     },
     "execution_count": 23,
     "metadata": {},
     "output_type": "execute_result"
    }
   ],
   "source": [
    "cursor.execute('''SELECT * FROM features''')\n",
    "cursor.fetchall()"
   ]
  },
  {
   "cell_type": "code",
   "execution_count": 135,
   "metadata": {},
   "outputs": [],
   "source": [
    "create_bar_feature(3, 2)"
   ]
  },
  {
   "cell_type": "code",
   "execution_count": 127,
   "metadata": {},
   "outputs": [],
   "source": [
    "create_bar(\"My Bar\",2, 2, \"My Address\", \"1230987654\")\n",
    "create_bar_feature(2,2)"
   ]
  },
  {
   "cell_type": "code",
   "execution_count": 136,
   "metadata": {},
   "outputs": [
    {
     "data": {
      "text/plain": [
       "[(1, 1, 1), (2, 2, 2), (3, 2, 2), (4, 3, 2)]"
      ]
     },
     "execution_count": 136,
     "metadata": {},
     "output_type": "execute_result"
    }
   ],
   "source": [
    "cursor.execute('''SELECT * FROM bar_features''')\n",
    "cursor.fetchall()"
   ]
  },
  {
   "cell_type": "code",
   "execution_count": 60,
   "metadata": {},
   "outputs": [],
   "source": [
    "create_bar(\"Hopdoddy\", 1, 3, \"111 Drink Road\", \"1234567890\")"
   ]
  },
  {
   "cell_type": "code",
   "execution_count": 128,
   "metadata": {},
   "outputs": [
    {
     "data": {
      "text/plain": [
       "[(1, 'Hopdoddy', 1, 3, '111 Drink Road', '1234567890', 1),\n",
       " (2, 'My Bar', 2, 2, 'My Address', '1230987654', 0),\n",
       " (3, 'My Bar', 2, 2, 'My Address', '1230987654', 0)]"
      ]
     },
     "execution_count": 128,
     "metadata": {},
     "output_type": "execute_result"
    }
   ],
   "source": [
    "cursor.execute('''SELECT * FROM bars''')\n",
    "cursor.fetchall()"
   ]
  },
  {
   "cell_type": "code",
   "execution_count": 52,
   "metadata": {},
   "outputs": [],
   "source": [
    "create_happy_hour(\"M\", \"17:00:00\", \"19:00:00\", 1, True, False, \"./menus/hopdoddy_menu.pdf\")"
   ]
  },
  {
   "cell_type": "code",
   "execution_count": 53,
   "metadata": {},
   "outputs": [
    {
     "data": {
      "text/plain": [
       "[(1, 'M', '17:00:00', '19:00:00', 1, 1, 0, './menus/hopdoddy_menu.pdf')]"
      ]
     },
     "execution_count": 53,
     "metadata": {},
     "output_type": "execute_result"
    }
   ],
   "source": [
    "cursor.execute('''SELECT * FROM happy_hours''')\n",
    "cursor.fetchall()"
   ]
  },
  {
   "cell_type": "code",
   "execution_count": 55,
   "metadata": {},
   "outputs": [],
   "source": [
    "create_review(1, 1, 5)"
   ]
  },
  {
   "cell_type": "code",
   "execution_count": 56,
   "metadata": {},
   "outputs": [
    {
     "data": {
      "text/plain": [
       "[(1, 1, 1, 5)]"
      ]
     },
     "execution_count": 56,
     "metadata": {},
     "output_type": "execute_result"
    }
   ],
   "source": [
    "cursor.execute('''SELECT * FROM reviews''')\n",
    "cursor.fetchall()"
   ]
  },
  {
   "cell_type": "markdown",
   "metadata": {},
   "source": [
    "## Read"
   ]
  },
  {
   "cell_type": "code",
   "execution_count": 177,
   "metadata": {},
   "outputs": [
    {
     "data": {
      "text/plain": [
       "{(1, 'Hopdoddy', 1, 3, '111 Drink Road', '1234567890', 1),\n",
       " (3, 'My Bar', 2, 2, 'My Address', '1230987654', 1)}"
      ]
     },
     "execution_count": 177,
     "metadata": {},
     "output_type": "execute_result"
    }
   ],
   "source": [
    "all_approved_bars()"
   ]
  },
  {
   "cell_type": "code",
   "execution_count": 170,
   "metadata": {},
   "outputs": [
    {
     "data": {
      "text/plain": [
       "[(1,\n",
       "  'M',\n",
       "  '17:00:00',\n",
       "  '19:00:00',\n",
       "  1,\n",
       "  1,\n",
       "  0,\n",
       "  './menus/hopdoddy_menu.pdf',\n",
       "  1,\n",
       "  'Hopdoddy',\n",
       "  1,\n",
       "  3,\n",
       "  '111 Drink Road',\n",
       "  '1234567890',\n",
       "  1)]"
      ]
     },
     "execution_count": 170,
     "metadata": {},
     "output_type": "execute_result"
    }
   ],
   "source": [
    "all_hhs_at_bar(1)"
   ]
  },
  {
   "cell_type": "code",
   "execution_count": 172,
   "metadata": {},
   "outputs": [
    {
     "data": {
      "text/plain": [
       "{(1,\n",
       "  'M',\n",
       "  '17:00:00',\n",
       "  '19:00:00',\n",
       "  1,\n",
       "  1,\n",
       "  0,\n",
       "  './menus/hopdoddy_menu.pdf',\n",
       "  1,\n",
       "  'Hopdoddy',\n",
       "  1,\n",
       "  3,\n",
       "  '111 Drink Road',\n",
       "  '1234567890',\n",
       "  1)}"
      ]
     },
     "execution_count": 172,
     "metadata": {},
     "output_type": "execute_result"
    }
   ],
   "source": [
    "all_approved_hhs()"
   ]
  },
  {
   "cell_type": "code",
   "execution_count": 173,
   "metadata": {},
   "outputs": [
    {
     "data": {
      "text/plain": [
       "{(1, 'Hopdoddy', 1, 3, '111 Drink Road', '1234567890', 1),\n",
       " (3, 'My Bar', 2, 2, 'My Address', '1230987654', 1)}"
      ]
     },
     "execution_count": 173,
     "metadata": {},
     "output_type": "execute_result"
    }
   ],
   "source": [
    "bars_in_regions([])"
   ]
  },
  {
   "cell_type": "code",
   "execution_count": 174,
   "metadata": {},
   "outputs": [
    {
     "data": {
      "text/plain": [
       "{(1, 'Hopdoddy', 1, 3, '111 Drink Road', '1234567890', 1),\n",
       " (3, 'My Bar', 2, 2, 'My Address', '1230987654', 1)}"
      ]
     },
     "execution_count": 174,
     "metadata": {},
     "output_type": "execute_result"
    }
   ],
   "source": [
    "bars_with_features([1,2])"
   ]
  },
  {
   "cell_type": "code",
   "execution_count": 175,
   "metadata": {},
   "outputs": [
    {
     "data": {
      "text/plain": [
       "{(1, 'Hopdoddy', 1, 3, '111 Drink Road', '1234567890', 1)}"
      ]
     },
     "execution_count": 175,
     "metadata": {},
     "output_type": "execute_result"
    }
   ],
   "source": [
    "bars_with_rating(1)"
   ]
  },
  {
   "cell_type": "markdown",
   "metadata": {},
   "source": [
    "#### Main Calls"
   ]
  },
  {
   "cell_type": "code",
   "execution_count": 181,
   "metadata": {},
   "outputs": [
    {
     "data": {
      "text/plain": [
       "{(1, 'Hopdoddy', 1, 3, '111 Drink Road', '1234567890', 1)}"
      ]
     },
     "execution_count": 181,
     "metadata": {},
     "output_type": "execute_result"
    }
   ],
   "source": [
    "filter_bars([],[],1)"
   ]
  },
  {
   "cell_type": "code",
   "execution_count": 191,
   "metadata": {},
   "outputs": [
    {
     "data": {
      "text/plain": [
       "{'bar': {'bid': 1,\n",
       "  'name': 'Hopdoddy',\n",
       "  'region_id': 1,\n",
       "  'manager_id': 3,\n",
       "  'address': '111 Drink Road',\n",
       "  'phone_number': '1234567890',\n",
       "  'approved': 1},\n",
       " 'happy_hours': [{'hhid': 1,\n",
       "   'day_of_week': 'M',\n",
       "   'start_time': '17:00:00',\n",
       "   'end_time': '19:00:00',\n",
       "   'bar_id': 1,\n",
       "   'drinks': 1,\n",
       "   'food': 0,\n",
       "   'menu_pdf': './menus/hopdoddy_menu.pdf'}]}"
      ]
     },
     "execution_count": 191,
     "metadata": {},
     "output_type": "execute_result"
    }
   ],
   "source": [
    "all_hhs_at_bar(1)"
   ]
  },
  {
   "cell_type": "markdown",
   "metadata": {},
   "source": [
    "## Edit"
   ]
  },
  {
   "cell_type": "code",
   "execution_count": 36,
   "metadata": {},
   "outputs": [
    {
     "data": {
      "text/plain": [
       "[(2, 'sofi', 0), (3, 'Hopdoddy Manager 1', 0)]"
      ]
     },
     "execution_count": 36,
     "metadata": {},
     "output_type": "execute_result"
    }
   ],
   "source": [
    "edit_user(3, \"Hopdoddy Manager 1\")\n",
    "cursor.execute('''SELECT * FROM users''')\n",
    "cursor.fetchall()"
   ]
  },
  {
   "cell_type": "code",
   "execution_count": 40,
   "metadata": {},
   "outputs": [
    {
     "data": {
      "text/plain": [
       "[(1, 'Domain (ATX)')]"
      ]
     },
     "execution_count": 40,
     "metadata": {},
     "output_type": "execute_result"
    }
   ],
   "source": [
    "edit_region(1,'Domain (ATX)')\n",
    "cursor.execute('''SELECT * FROM regions''')\n",
    "cursor.fetchall()"
   ]
  },
  {
   "cell_type": "code",
   "execution_count": 49,
   "metadata": {},
   "outputs": [
    {
     "data": {
      "text/plain": [
       "[(1, 'Pool Table', 'Play pool/billiards')]"
      ]
     },
     "execution_count": 49,
     "metadata": {},
     "output_type": "execute_result"
    }
   ],
   "source": [
    "edit_feature(1,'Pool Table',\"Play pool/billiards\")\n",
    "cursor.execute('''SELECT * FROM features''')\n",
    "cursor.fetchall()"
   ]
  },
  {
   "cell_type": "code",
   "execution_count": null,
   "metadata": {},
   "outputs": [],
   "source": [
    "#edit_bar(bid, name, region_id, manager_id, address, phone_number):"
   ]
  },
  {
   "cell_type": "code",
   "execution_count": 64,
   "metadata": {},
   "outputs": [
    {
     "data": {
      "text/plain": [
       "[(1, 'Hopdoddy', 1, 3, '111 Drink Road', '1234567890', 1)]"
      ]
     },
     "execution_count": 64,
     "metadata": {},
     "output_type": "execute_result"
    }
   ],
   "source": [
    "approve_bar(3)\n",
    "cursor.execute('select * from bars')\n",
    "cursor.fetchall()"
   ]
  },
  {
   "cell_type": "code",
   "execution_count": null,
   "metadata": {},
   "outputs": [],
   "source": [
    "#edit_happy_hour(hhid, day_of_week, start_time, end_time, bar_id, drinks, food, menu_pdf):"
   ]
  },
  {
   "cell_type": "code",
   "execution_count": null,
   "metadata": {},
   "outputs": [],
   "source": [
    "#edit_review(rid, bar_id, star_count):"
   ]
  },
  {
   "cell_type": "markdown",
   "metadata": {},
   "source": [
    "## Delete"
   ]
  },
  {
   "cell_type": "code",
   "execution_count": 8,
   "metadata": {},
   "outputs": [
    {
     "data": {
      "text/plain": [
       "[(2, 'sofi', 0), (3, 'Hopdoddy Manager', 0)]"
      ]
     },
     "execution_count": 8,
     "metadata": {},
     "output_type": "execute_result"
    }
   ],
   "source": [
    "delete_user(1)\n",
    "cursor.execute('''SELECT * FROM users''')\n",
    "cursor.fetchall()"
   ]
  },
  {
   "cell_type": "code",
   "execution_count": 22,
   "metadata": {},
   "outputs": [
    {
     "data": {
      "text/plain": [
       "[(1, 'Domain')]"
      ]
     },
     "execution_count": 22,
     "metadata": {},
     "output_type": "execute_result"
    }
   ],
   "source": [
    "delete_region(2)\n",
    "cursor.execute('''SELECT * FROM regions''')\n",
    "cursor.fetchall()"
   ]
  },
  {
   "cell_type": "code",
   "execution_count": 27,
   "metadata": {},
   "outputs": [
    {
     "data": {
      "text/plain": [
       "[]"
      ]
     },
     "execution_count": 27,
     "metadata": {},
     "output_type": "execute_result"
    }
   ],
   "source": [
    "delete_feature(1)\n",
    "cursor.execute('''SELECT * FROM features''')\n",
    "cursor.fetchall()"
   ]
  },
  {
   "cell_type": "code",
   "execution_count": null,
   "metadata": {},
   "outputs": [],
   "source": [
    "delete_bar_feature(2, 1)\n",
    "cursor.execute(\"Select * FROM bar_features\")\n",
    "cursor.fetchall()"
   ]
  },
  {
   "cell_type": "code",
   "execution_count": null,
   "metadata": {},
   "outputs": [],
   "source": [
    "delete_bar(1)"
   ]
  },
  {
   "cell_type": "code",
   "execution_count": null,
   "metadata": {},
   "outputs": [],
   "source": [
    "delete_happy_hour(1)"
   ]
  },
  {
   "cell_type": "code",
   "execution_count": null,
   "metadata": {},
   "outputs": [],
   "source": [
    "delete_review(1)"
   ]
  },
  {
   "cell_type": "markdown",
   "metadata": {},
   "source": [
    "# Close the DB"
   ]
  },
  {
   "cell_type": "code",
   "execution_count": 192,
   "metadata": {},
   "outputs": [],
   "source": [
    "db.close()"
   ]
  }
 ],
 "metadata": {
  "kernelspec": {
   "display_name": "Python 3",
   "language": "python",
   "name": "python3"
  },
  "language_info": {
   "codemirror_mode": {
    "name": "ipython",
    "version": 3
   },
   "file_extension": ".py",
   "mimetype": "text/x-python",
   "name": "python",
   "nbconvert_exporter": "python",
   "pygments_lexer": "ipython3",
   "version": "3.7.3"
  }
 },
 "nbformat": 4,
 "nbformat_minor": 2
}
