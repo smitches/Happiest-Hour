{
 "cells": [
  {
   "cell_type": "markdown",
   "metadata": {},
   "source": [
    "# The Happiest Hour\n",
    "\n",
    "## An innovative solution to promoting and discovering happy hour offerings\n",
    "- Madi Gwynn\n",
    "- Brian Smith-Eitches"
   ]
  },
  {
   "cell_type": "code",
   "execution_count": 2,
   "metadata": {},
   "outputs": [],
   "source": [
    "import sqlite3"
   ]
  },
  {
   "cell_type": "code",
   "execution_count": 3,
   "metadata": {},
   "outputs": [],
   "source": [
    "# Connect/Create(if does not exist) to a database formatted as a sqlite database \n",
    "db=sqlite3.connect(\"./happy_hour.db\")"
   ]
  },
  {
   "cell_type": "code",
   "execution_count": 4,
   "metadata": {},
   "outputs": [],
   "source": [
    "cursor = db.cursor()"
   ]
  },
  {
   "cell_type": "markdown",
   "metadata": {},
   "source": [
    "## Create Database Tables"
   ]
  },
  {
   "cell_type": "code",
   "execution_count": 17,
   "metadata": {},
   "outputs": [],
   "source": [
    "cursor.execute('''\n",
    "    CREATE TABLE regions(\n",
    "        rid INTEGER PRIMARY KEY,\n",
    "        title TEXT)\n",
    "''')\n",
    "db.commit()"
   ]
  },
  {
   "cell_type": "code",
   "execution_count": 18,
   "metadata": {},
   "outputs": [],
   "source": [
    "cursor.execute('''\n",
    "    CREATE TABLE users(\n",
    "        uid INTEGER PRIMARY KEY,\n",
    "        name TEXT,\n",
    "        admin BOOLEAN)\n",
    "''')\n",
    "db.commit()"
   ]
  },
  {
   "cell_type": "code",
   "execution_count": 19,
   "metadata": {},
   "outputs": [],
   "source": [
    "cursor.execute('''\n",
    "    CREATE TABLE bars(\n",
    "        bid INTEGER PRIMARY KEY,\n",
    "        name TEXT,\n",
    "        region_id INTEGER,\n",
    "        manager_id INTERGER,\n",
    "        address TEXT,\n",
    "        phone_number TEXT,\n",
    "        approved BOOLEAN,\n",
    "        FOREIGN KEY(region_id) REFERENCES regions(rid),\n",
    "        FOREIGN KEY(manager_id) REFERENCES users(uid)\n",
    "        )\n",
    "''')\n",
    "db.commit()"
   ]
  },
  {
   "cell_type": "code",
   "execution_count": 20,
   "metadata": {},
   "outputs": [],
   "source": [
    "cursor.execute('''\n",
    "    CREATE TABLE bar_features(\n",
    "        bfid INTEGER PRIMARY KEY,\n",
    "        bar_id INTEGER,\n",
    "        feature_id INTEGER,\n",
    "        FOREIGN KEY(bar_id) REFERENCES bars(bid),\n",
    "        FOREIGN KEY(feature_id) REFERENCES features(fid))\n",
    "''')\n",
    "db.commit()"
   ]
  },
  {
   "cell_type": "code",
   "execution_count": 21,
   "metadata": {},
   "outputs": [],
   "source": [
    "cursor.execute('''\n",
    "    CREATE TABLE features(\n",
    "        fid INTEGER PRIMARY KEY,\n",
    "        feature TEXT,\n",
    "        description TEXT)\n",
    "''')\n",
    "db.commit()"
   ]
  },
  {
   "cell_type": "code",
   "execution_count": 22,
   "metadata": {},
   "outputs": [],
   "source": [
    "cursor.execute('''\n",
    "    CREATE TABLE happy_hours(\n",
    "        hhid INTEGER PRIMARY KEY, \n",
    "        day_of_week VARCHAR(2), \n",
    "        start_time DATETIME, \n",
    "        end_time DATETIME,\n",
    "        bar_id INTEGER,\n",
    "        drinks BOOLEAN,\n",
    "        food BOOLEAN,\n",
    "        menu_pdf TEXT,\n",
    "        FOREIGN KEY(bar_id) REFERENCES bars(bid))\n",
    "''')\n",
    "db.commit()"
   ]
  },
  {
   "cell_type": "code",
   "execution_count": 23,
   "metadata": {},
   "outputs": [],
   "source": [
    "cursor.execute('''\n",
    "    CREATE TABLE reviews(\n",
    "        rid INTEGER PRIMARY KEY, \n",
    "        user_id INTEGER,\n",
    "        bar_id INTEGER,\n",
    "        star_count INTEGER,\n",
    "        FOREIGN KEY(user_id) REFERENCES users(uid), \n",
    "        FOREIGN KEY(bar_id) REFERENCES bars(bid))\n",
    "''')\n",
    "db.commit()"
   ]
  },
  {
   "cell_type": "code",
   "execution_count": 24,
   "metadata": {},
   "outputs": [],
   "source": [
    "db.close()"
   ]
  },
  {
   "cell_type": "markdown",
   "metadata": {},
   "source": [
    "# Functions for implementation"
   ]
  },
  {
   "cell_type": "markdown",
   "metadata": {},
   "source": [
    "# Create \n",
    "- User (self) BRIAN\n",
    "- Regions (admin) BRIAN\n",
    "- Bars (managers, default to *unvetted*) MADI\n",
    "- Happy Hours (managers) MADI\n",
    "- Features (admin) BRIAN\n",
    "- Reviews (users) MADI \n",
    "- BarFeatures (managers) BRIAN"
   ]
  },
  {
   "cell_type": "code",
   "execution_count": 25,
   "metadata": {},
   "outputs": [],
   "source": [
    "def create_user(name, admin=False):\n",
    "    cursor.execute('''INSERT INTO users(name, admin)\n",
    "                  VALUES(?,?)''', (name, admin))\n",
    "    db.commit()"
   ]
  },
  {
   "cell_type": "code",
   "execution_count": 48,
   "metadata": {},
   "outputs": [],
   "source": [
    "create_user(\"Hopdoddy Manager\")"
   ]
  },
  {
   "cell_type": "code",
   "execution_count": 5,
   "metadata": {},
   "outputs": [
    {
     "data": {
      "text/plain": [
       "[(1, 'brian', 0), (2, 'sofi', 0), (3, 'Hopdoddy Manager', 0)]"
      ]
     },
     "execution_count": 5,
     "metadata": {},
     "output_type": "execute_result"
    }
   ],
   "source": [
    "cursor.execute('''SELECT * FROM users''')\n",
    "cursor.fetchall()"
   ]
  },
  {
   "cell_type": "code",
   "execution_count": 45,
   "metadata": {},
   "outputs": [],
   "source": [
    "def create_region(title):\n",
    "    cursor.execute('''INSERT INTO regions(title) VALUES(:title)''',\n",
    "                   {'title':title})\n",
    "    \n",
    "    db.commit()\n",
    "    "
   ]
  },
  {
   "cell_type": "code",
   "execution_count": 46,
   "metadata": {},
   "outputs": [],
   "source": [
    "create_region(\"Domain\")"
   ]
  },
  {
   "cell_type": "code",
   "execution_count": 1,
   "metadata": {},
   "outputs": [
    {
     "ename": "NameError",
     "evalue": "name 'cursor' is not defined",
     "output_type": "error",
     "traceback": [
      "\u001b[1;31m---------------------------------------------------------------------------\u001b[0m",
      "\u001b[1;31mNameError\u001b[0m                                 Traceback (most recent call last)",
      "\u001b[1;32m<ipython-input-1-38d834fe077f>\u001b[0m in \u001b[0;36m<module>\u001b[1;34m\u001b[0m\n\u001b[1;32m----> 1\u001b[1;33m \u001b[0mcursor\u001b[0m\u001b[1;33m.\u001b[0m\u001b[0mexecute\u001b[0m\u001b[1;33m(\u001b[0m\u001b[1;34m'''SELECT * FROM regions'''\u001b[0m\u001b[1;33m)\u001b[0m\u001b[1;33m\u001b[0m\u001b[1;33m\u001b[0m\u001b[0m\n\u001b[0m\u001b[0;32m      2\u001b[0m \u001b[0mcursor\u001b[0m\u001b[1;33m.\u001b[0m\u001b[0mfetchall\u001b[0m\u001b[1;33m(\u001b[0m\u001b[1;33m)\u001b[0m\u001b[1;33m\u001b[0m\u001b[1;33m\u001b[0m\u001b[0m\n",
      "\u001b[1;31mNameError\u001b[0m: name 'cursor' is not defined"
     ]
    }
   ],
   "source": [
    "cursor.execute('''SELECT * FROM regions''')\n",
    "cursor.fetchall()"
   ]
  },
  {
   "cell_type": "code",
   "execution_count": 44,
   "metadata": {},
   "outputs": [],
   "source": [
    "def create_feature(feature, description):\n",
    "    cursor.execute('''INSERT INTO features(feature, description) \n",
    "                    VALUES(?,?)''', (feature, description))\n",
    "    db.commit()\n",
    "    \n",
    "    "
   ]
  },
  {
   "cell_type": "code",
   "execution_count": 45,
   "metadata": {},
   "outputs": [],
   "source": [
    "create_feature(\"Pool\",\"This Bar has a swim up pool\")"
   ]
  },
  {
   "cell_type": "code",
   "execution_count": 46,
   "metadata": {},
   "outputs": [
    {
     "data": {
      "text/plain": [
       "[(1, 'Pool', 'This Bar has a swim up pool')]"
      ]
     },
     "execution_count": 46,
     "metadata": {},
     "output_type": "execute_result"
    }
   ],
   "source": [
    "cursor.execute('''SELECT * FROM features''')\n",
    "cursor.fetchall()"
   ]
  },
  {
   "cell_type": "code",
   "execution_count": 54,
   "metadata": {},
   "outputs": [],
   "source": [
    "def create_bar_feature(bar_id, feature_id):\n",
    "    cursor.execute('''INSERT INTO bar_features(bar_id, feature_id)\n",
    "                    VALUE(?,?)''', (bar_id, feature_id))\n",
    "    db.commit()"
   ]
  },
  {
   "cell_type": "code",
   "execution_count": null,
   "metadata": {},
   "outputs": [],
   "source": [
    "create_bar_feature(#barid, 1)"
   ]
  },
  {
   "cell_type": "markdown",
   "metadata": {},
   "source": [
    "# Display (READ)\n",
    "- Only show bars & its HH's that have been approved\n",
    "- Only show bars that are in region\n",
    "- Users Filter bar_features\n",
    "- Users Filter by happy hour attributes\n",
    "- Users Filter by bar attributes\n",
    "    - Including review ratings\n",
    "- For **High Level = BAR** : Link up (JSON) bar name, happy hour days, drinks/food disc?, region, reviews MADI\n",
    "- For **LOW LEVEL = HH**: include each happy hour separated by happy hour entry, pdf, bar info from above, phone, address BRIAN"
   ]
  },
  {
   "cell_type": "markdown",
   "metadata": {},
   "source": [
    "# Edit (UPDATE) *Identical to Create*\n",
    "- User (self) BRIAN\n",
    "- Regions (admin) BRIAN\n",
    "- Bars (managers, admin) MADI\n",
    "    - Also admin approval\n",
    "- Happy Hours (managers) MADI\n",
    "- Features (admin) BRIAN\n",
    "- Reviews (users) MADI\n",
    "- BarFeatures (managers) BRIAN **Achieved via add feature and delete feature**"
   ]
  },
  {
   "cell_type": "code",
   "execution_count": 34,
   "metadata": {},
   "outputs": [],
   "source": [
    "def edit_user(uid, name, admin=False):\n",
    "    cursor.execute('''UPDATE users SET name=(:name), admin=(:admin)\n",
    "                  WHERE uid=(:uid)''', {'uid':uid,'name':name,'admin':admin})\n",
    "    db.commit()"
   ]
  },
  {
   "cell_type": "code",
   "execution_count": 35,
   "metadata": {},
   "outputs": [],
   "source": [
    "edit_user(3, \"Hopdoddy Manager 1\")"
   ]
  },
  {
   "cell_type": "code",
   "execution_count": 36,
   "metadata": {},
   "outputs": [
    {
     "data": {
      "text/plain": [
       "[(2, 'sofi', 0), (3, 'Hopdoddy Manager 1', 0)]"
      ]
     },
     "execution_count": 36,
     "metadata": {},
     "output_type": "execute_result"
    }
   ],
   "source": [
    "cursor.execute('''SELECT * FROM users''')\n",
    "cursor.fetchall()"
   ]
  },
  {
   "cell_type": "code",
   "execution_count": 37,
   "metadata": {},
   "outputs": [],
   "source": [
    "def edit_region(rid, title):\n",
    "    cursor.execute('''UPDATE regions SET title=(:title)\n",
    "                  WHERE rid=(:rid)''', {'rid':rid,'title':title})\n",
    "    db.commit()"
   ]
  },
  {
   "cell_type": "code",
   "execution_count": 39,
   "metadata": {},
   "outputs": [],
   "source": [
    "edit_region(1,'Domain (ATX)')"
   ]
  },
  {
   "cell_type": "code",
   "execution_count": 40,
   "metadata": {},
   "outputs": [
    {
     "data": {
      "text/plain": [
       "[(1, 'Domain (ATX)')]"
      ]
     },
     "execution_count": 40,
     "metadata": {},
     "output_type": "execute_result"
    }
   ],
   "source": [
    "cursor.execute('''SELECT * FROM regions''')\n",
    "cursor.fetchall()"
   ]
  },
  {
   "cell_type": "code",
   "execution_count": 41,
   "metadata": {},
   "outputs": [],
   "source": [
    "def edit_feature(fid, feature, description):\n",
    "    cursor.execute('''UPDATE features SET feature=(:feature), description=(:description)\n",
    "                  WHERE fid=(:fid)''', {'fid':fid,'feature':feature,'description':description})\n",
    "    db.commit()"
   ]
  },
  {
   "cell_type": "code",
   "execution_count": 48,
   "metadata": {},
   "outputs": [],
   "source": [
    "edit_feature(1,'Pool Table',\"Play pool/billiards\")"
   ]
  },
  {
   "cell_type": "code",
   "execution_count": 49,
   "metadata": {},
   "outputs": [
    {
     "data": {
      "text/plain": [
       "[(1, 'Pool Table', 'Play pool/billiards')]"
      ]
     },
     "execution_count": 49,
     "metadata": {},
     "output_type": "execute_result"
    }
   ],
   "source": [
    "cursor.execute('''SELECT * FROM features''')\n",
    "cursor.fetchall()"
   ]
  },
  {
   "cell_type": "markdown",
   "metadata": {},
   "source": [
    "# Delete\n",
    "- User (admin) BRIAN\n",
    "- Regions (admin) BRIAN\n",
    "- Bars (managers) MADI\n",
    "    - Call delete all happy hours\n",
    "    - Call delete on all bar features\n",
    "- Happy Hours (managers) MADI\n",
    "- Features (admin) BRIAN\n",
    "    - Remove all barfeatures with that feature\n",
    "- Reviews (users) MADI\n",
    "- BarFeatures (managers) BRIAN"
   ]
  },
  {
   "cell_type": "code",
   "execution_count": 6,
   "metadata": {},
   "outputs": [],
   "source": [
    "#only admins can call this in the interface\n",
    "def delete_user(user_id):\n",
    "    cursor.execute('''DELETE FROM users WHERE\n",
    "                  uid=(:user_id)''', {'user_id':user_id})\n",
    "    db.commit()"
   ]
  },
  {
   "cell_type": "code",
   "execution_count": 7,
   "metadata": {},
   "outputs": [],
   "source": [
    "delete_user(1)"
   ]
  },
  {
   "cell_type": "code",
   "execution_count": 8,
   "metadata": {},
   "outputs": [
    {
     "data": {
      "text/plain": [
       "[(2, 'sofi', 0), (3, 'Hopdoddy Manager', 0)]"
      ]
     },
     "execution_count": 8,
     "metadata": {},
     "output_type": "execute_result"
    }
   ],
   "source": [
    "cursor.execute('''SELECT * FROM users''')\n",
    "cursor.fetchall()"
   ]
  },
  {
   "cell_type": "code",
   "execution_count": 20,
   "metadata": {},
   "outputs": [],
   "source": [
    "def delete_region(region_id):\n",
    "    cursor.execute('''DELETE FROM regions\n",
    "                    WHERE rid=(:rid)''', {'rid':region_id})\n",
    "    \n",
    "    db.commit()\n",
    "    "
   ]
  },
  {
   "cell_type": "code",
   "execution_count": 21,
   "metadata": {},
   "outputs": [],
   "source": [
    "delete_region(2)"
   ]
  },
  {
   "cell_type": "code",
   "execution_count": 22,
   "metadata": {},
   "outputs": [
    {
     "data": {
      "text/plain": [
       "[(1, 'Domain')]"
      ]
     },
     "execution_count": 22,
     "metadata": {},
     "output_type": "execute_result"
    }
   ],
   "source": [
    "cursor.execute('''SELECT * FROM regions''')\n",
    "cursor.fetchall()"
   ]
  },
  {
   "cell_type": "code",
   "execution_count": 25,
   "metadata": {},
   "outputs": [],
   "source": [
    "def delete_feature(feature_id):\n",
    "    cursor.execute('''DELETE FROM bar_features WHERE feature_id=(:feature_id)''', {'feature_id':feature_id})\n",
    "    cursor.execute('''DELETE FROM features WHERE fid=(:feature_id)''',{'feature_id':feature_id})\n",
    "    db.commit()\n",
    "    \n",
    "    "
   ]
  },
  {
   "cell_type": "code",
   "execution_count": 26,
   "metadata": {},
   "outputs": [],
   "source": [
    "delete_feature(1)"
   ]
  },
  {
   "cell_type": "code",
   "execution_count": 27,
   "metadata": {},
   "outputs": [
    {
     "data": {
      "text/plain": [
       "[]"
      ]
     },
     "execution_count": 27,
     "metadata": {},
     "output_type": "execute_result"
    }
   ],
   "source": [
    "cursor.execute('''SELECT * FROM features''')\n",
    "cursor.fetchall()"
   ]
  },
  {
   "cell_type": "code",
   "execution_count": 54,
   "metadata": {},
   "outputs": [],
   "source": [
    "def delete_bar_feature(bar_id, feature_id):\n",
    "    cursor.execute('''DELETE FROM bar_features WHERE bar_id=(:bar_id) AND feaure_id=(:feature_id)\n",
    "                    ''', {'bar_id':bar_id, 'feature_id':feature_id})\n",
    "    db.commit()"
   ]
  },
  {
   "cell_type": "code",
   "execution_count": null,
   "metadata": {},
   "outputs": [],
   "source": [
    "create_bar_feature(#barid, 1)"
   ]
  }
 ],
 "metadata": {
  "kernelspec": {
   "display_name": "Python 3",
   "language": "python",
   "name": "python3"
  },
  "language_info": {
   "codemirror_mode": {
    "name": "ipython",
    "version": 3
   },
   "file_extension": ".py",
   "mimetype": "text/x-python",
   "name": "python",
   "nbconvert_exporter": "python",
   "pygments_lexer": "ipython3",
   "version": "3.7.3"
  }
 },
 "nbformat": 4,
 "nbformat_minor": 2
}
